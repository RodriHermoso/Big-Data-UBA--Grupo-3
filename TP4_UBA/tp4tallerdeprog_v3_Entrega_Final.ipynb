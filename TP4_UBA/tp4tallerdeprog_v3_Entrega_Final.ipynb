{
  "nbformat": 4,
  "nbformat_minor": 0,
  "metadata": {
    "colab": {
      "provenance": []
    },
    "kernelspec": {
      "name": "python3",
      "display_name": "Python 3"
    },
    "language_info": {
      "name": "python"
    }
  },
  "cells": [
    {
      "cell_type": "markdown",
      "source": [
        "# Big Data (UBA) -  2024\n",
        "\n",
        "## Trabajo Práctico 4"
      ],
      "metadata": {
        "id": "uwbBSoqD4Q54"
      }
    },
    {
      "cell_type": "markdown",
      "source": [
        "### Fecha de entrega:\n",
        "\n",
        "\n",
        "\n",
        "\n",
        "<font color='red'> Viernes 13 de Diciembre a las 13:00 hs </font>"
      ],
      "metadata": {
        "id": "FxjcJtIV4U--"
      }
    },
    {
      "cell_type": "code",
      "source": [
        "# Instalacion de paquetes/librerias\n",
        "import requests\n",
        "import json\n",
        "import time\n",
        "import pandas as pd\n",
        "import matplotlib.pyplot as plt\n",
        "import numpy as np\n",
        "from bs4 import BeautifulSoup\n",
        "import locale\n",
        "import datetime\n",
        "import seaborn as sns\n",
        "import plotly.express as px\n",
        "import statsmodels.api as sm\n",
        "from sklearn.model_selection import train_test_split\n",
        "from sklearn.linear_model import LinearRegression\n",
        "from sklearn.linear_model import LogisticRegression\n",
        "from sklearn.metrics import mean_squared_error, mean_absolute_error\n",
        "from sklearn.decomposition import PCA\n",
        "from sklearn.preprocessing import StandardScaler\n",
        "from scipy.stats import gaussian_kde\n",
        "\n",
        "from sklearn import datasets\n",
        "from sklearn.metrics import confusion_matrix\n",
        "from sklearn.metrics import accuracy_score, recall_score\n",
        "from sklearn.metrics import RocCurveDisplay\n",
        "from sklearn.neighbors import KNeighborsClassifier\n",
        "\n",
        "from sklearn import datasets\n",
        "from sklearn.metrics import roc_curve\n",
        "from sklearn.metrics import roc_auc_score\n",
        "from sklearn.discriminant_analysis import LinearDiscriminantAnalysis\n",
        "from sklearn.discriminant_analysis import QuadraticDiscriminantAnalysis as QDA\n",
        "from sklearn.neighbors import KNeighborsClassifier\n",
        "\n",
        "from sklearn.model_selection import GridSearchCV, StratifiedKFold\n",
        "from sklearn.preprocessing import StandardScaler\n",
        "from sklearn.pipeline import make_pipeline"
      ],
      "metadata": {
        "id": "qNqwZ6nc5C-k"
      },
      "execution_count": 22,
      "outputs": []
    },
    {
      "cell_type": "markdown",
      "source": [
        "### Parte I: Análisis de la base de hogares y tipo de ocupación"
      ],
      "metadata": {
        "id": "K6oYp41T5Mh-"
      }
    },
    {
      "cell_type": "markdown",
      "source": [
        "#### 1. Exploren el diseño de registro de la base de hogar: a priori, ¿qué variables creen pueden ser predictivas de la desocupación y seria útil incluir para perfeccionar el ejercicio del TP3? Mencionen estas variables y justifiquen su elección."
      ],
      "metadata": {
        "id": "qABaCLMe5Ol4"
      }
    },
    {
      "cell_type": "markdown",
      "source": [
        "Todas las variables que caracterice el tipo de hogar y su construccon pueden ayudar a perfeccionar la estimacion de desocupados (u ocupados) al funcionar como un proxy de status socioeconomico. Especilamente las que estan presente en la construccion de las metrica de pobreza sobre Necesidades Basicas Insatisfechas (baño, numero de habitaciones, condiciones de hacinamiento). Ademas, se podria incorporar las variables de la seccion \"¿En los últimos tres meses, las personas de este hogar han vivido...\": muchas preguntan indagan directamente por los ingresos del hogar. En caso de no tener nulos, podria dotar al modelo de un significativo poder explicativo. Por ultimo, la cantidad de miembros del hogar y si posee servicio domestico parecen ser otras dos buenas complementaciones."
      ],
      "metadata": {
        "id": "uRhls_W4_Ws4"
      }
    },
    {
      "cell_type": "markdown",
      "source": [
        "#### 2.\tDescarguen la base de microdatos de la EPH correspondiente al primer trimestre de 2004 y 2024 en formato .dta y .xls, respectivamente. La base de hogares se llama Hogar_t104.dta y usu_hogar_T124.xls, respectivamente. Eliminen todas las observaciones que no corresponden a los aglomerados de Ciuidad Autónoma de Buenos Aires o Gran Buenos Aires y unan ambos trimestres en una sola base. Esto es, a la base de la encuesta individual de cada año (que usaron en el TP3) unan la base de la encuesta de hogar. Asegúrese de estar usando las variables CODUSU y NRO_Hogar para el merge."
      ],
      "metadata": {
        "id": "h-xqZ3I3721-"
      }
    },
    {
      "cell_type": "code",
      "source": [
        "# Leer la base de datos para 2004 (archivo .dta)\n",
        "df_2004 = pd.read_stata('/content/Hogar_t104.dta')\n",
        "\n",
        "# Leer la base de datos para 2024 (archivo .xls)\n",
        "df_2024 = pd.read_excel('/content/usu_hogar_T124.xlsx')\n",
        "\n",
        "# Leer la base de datos del TP3 (archivo .xls)\n",
        "df_2004_2024_caba_gba_ind = pd.read_excel('/content/df_2004_2024_caba_gba_ind.xlsx')"
      ],
      "metadata": {
        "id": "fat4vo1N8IF2"
      },
      "execution_count": 2,
      "outputs": []
    },
    {
      "cell_type": "code",
      "source": [
        "# Modificamos ciertas cuestiones para poder hacer el merge entre bases.\n",
        "# Mas especificamente, la adaptamos la base 2004 al formato de la 2024\n",
        "\n",
        "## Paso las variables de 2004 a mayusculas para que haga el concat de manera correcta\n",
        "\n",
        "df_2004.columns = df_2004.columns.str.upper()\n",
        "\n",
        "## Algunas variables de la EPH 2004 tienen datos en STR. Las paso al mismo codigo numerico\n",
        "## que la EPH 2024\n",
        "\n",
        "### Cambiar \"Si\" a 1 y \"No\" a 0\n",
        "df_2004.replace({'Si': 1, 'Sí': 1, 'No': 2}, inplace=True)\n",
        "\n",
        "df_2004_2024_caba_gba_ind.replace({'Si': 1, 'Sí': 1, 'No': 2}, inplace=True)\n",
        "\n",
        "### Cambiar valores específicos para \"Servicio doméstico\"\n",
        "df_2004.replace({'Servicio doméstico': 96,\n",
        "    'Otra persona que no vive en el hogar': 97,\n",
        "    'Ninguna': 98\n",
        "}, inplace=True)\n",
        "\n",
        "\n",
        "df_2004_2024_caba_gba_ind.replace({'Servicio doméstico': 96,\n",
        "    'Otra persona que no vive en el hogar': 97,\n",
        "    'Ninguna': 98\n",
        "}, inplace=True)\n",
        "\n",
        "### Diccionarios de reemplazo\n",
        "\n",
        "### AGLOMERADO\n",
        "cambios_aglomerado = {\n",
        "    \"Gran La Plata\": 2, \"Bahía Blanca - Cerri\": 3, \"Gran Rosario\": 4, \"Gran Santa Fé\": 5,\n",
        "    \"Gran Paraná\": 6, \"Posadas\": 7, \"Gran Resistencia\": 8, \"Cdro. Rivadavia – Rada Tilly\": 9,\n",
        "    \"Gran Mendoza\": 10, \"Corrientes\": 12, \"Gran Córdoba\": 13, \"Concordia\": 14,\n",
        "    \"Formosa\": 15, \"Neuquén – Plottier\": 17, \"S.del Estero - La Banda\": 18,\n",
        "    \"Jujuy - Palpalá\": 19, \"Río Gallegos\": 20, \"Gran Catamarca\": 22, \"Salta\": 23,\n",
        "    \"La Rioja\": 25, \"San Luis - El Chorrillo\": 26, \"Gran San Juan\": 27,\n",
        "    \"Gran Tucumán - T. Viejo\": 29, \"Santa Rosa - Toay\": 30, \"Ushuaia - Río Grande\": 31,\n",
        "    \"Ciudad de Buenos Aires\": 32, \"Partidos del GBA\": 33, \"Mar del Plata - Batán\": 34,\n",
        "    \"Río Cuarto\": 36\n",
        "}\n",
        "\n",
        "### IV1\n",
        "cambios_iv1 = {\n",
        "    \"Casa\": 1, \"Departamento\": 2, \"Pieza de inquilinato\": 3,\n",
        "    \"Pieza en hotel / pensión\": 4, \"Local no construido para habitación\": 5, \"Otros\": 6\n",
        "}\n",
        "\n",
        "### IV3\n",
        "cambios_iv3 = {\n",
        "    \"Mosaico / baldosa / madera / cerámica / alfombra\": 1, \"Cemento / ladrillo fijo\": 2,\n",
        "    \"Ladrillo suelto / tierra\": 3, \"Otro\": 4\n",
        "}\n",
        "\n",
        "### IV4\n",
        "cambios_iv4 = {\n",
        "    \"Membrana / cubierta asfáltica\": 1, \"Baldosa / losa sin cubierta\": 2, \"Pizarra / teja\": 3,\n",
        "    \"Chapa de metal sin cubierta\": 4, \"Chapa de fibrocemento / plástico\": 5,\n",
        "    \"Chapa de cartón\": 6, \"Caña / tabla / paja con barro / paja sola\": 7,\n",
        "    \"N/S. Depto en propiedad horizontal\": 9\n",
        "}\n",
        "\n",
        "### IV6\n",
        "cambios_iv6 = {\n",
        "    \"Por cañería dentro de la vivienda\": 1,\n",
        "    \"Fuera de la vivienda pero dentro del terreno\": 2,\n",
        "    \"Fuera del terreno\": 3\n",
        "}\n",
        "\n",
        "### IV7\n",
        "cambios_iv7 = {\n",
        "    \"Red pública (agua corriente)\": 1, \"Perforación con bomba a motor\": 2,\n",
        "    \"Perforación con bomba manual\": 3, \"Otra fuente\": 4\n",
        "}\n",
        "\n",
        "### IV9\n",
        "cambios_iv9 = {\n",
        "    \"Dentro de la vivienda\": 1,\n",
        "    \"Fuera de la vivienda pero dentro del terreno\": 2,\n",
        "    \"Fuera del terreno\": 3\n",
        "}\n",
        "\n",
        "### IV10\n",
        "cambios_iv10 = {\n",
        "    \"Inodoro con botón / mochila / cadena y arrastre de agua\": 1,\n",
        "    \"Inodoro sin botón / cadena y con arrastre de agua (a balde)\": 2,\n",
        "    \"Letrina (sin arrastre de agua)\": 3\n",
        "}\n",
        "\n",
        "### IV11\n",
        "cambios_iv11 = {\n",
        "    \"A red pública (cloaca)\": 1, \"A cámara séptica y pozo ciego\": 2,\n",
        "    \"Sólo a pozo ciego\": 3, \"A hoyo / excavación en la tierra\": 4\n",
        "}\n",
        "\n",
        "### II7\n",
        "cambios_ii7 = {\n",
        "    \"Propietario de la vivienda y el terreno\": 1, \"Propietario de la vivienda solamente\": 2,\n",
        "    \"Inquilino / arrendatario de la vivienda\": 3, \"Ocupante por pago de impuestos / expensas\": 4,\n",
        "    \"Ocupante en relación de dependencia\": 5, \"Ocupante gratuito (con permiso)\": 6,\n",
        "    \"Ocupante de hecho (sin permiso)\": 7, \"Está en sucesión\": 8, \"Otra situación\": 9\n",
        "}\n",
        "\n",
        "### II8\n",
        "cambios_ii8 = {\n",
        "    \"Gas de red\": 1, \"Gas de tubo / garrafa\": 2,\n",
        "    \"Kerosene / leña/ carbón\": 3, \"Otro\": 4\n",
        "}\n",
        "\n",
        "### II9\n",
        "cambios_ii9 = {\n",
        "    \"Uso exclusivo del hogar\": 1,\n",
        "    \"Compartido con otro/s hogar/es de la misma vivienda\": 2,\n",
        "    \"Compartido con otra/s vivienda/s\": 3,\n",
        "    \"No tiene baño\": 4\n",
        "}\n",
        "\n",
        "df_2004['AGLOMERADO'].replace(cambios_aglomerado, inplace=True)\n",
        "df_2004['IV1'].replace(cambios_iv1, inplace=True)\n",
        "df_2004['IV3'].replace(cambios_iv3, inplace=True)\n",
        "df_2004['IV4'].replace(cambios_iv4, inplace=True)\n",
        "df_2004['IV6'].replace(cambios_iv6, inplace=True)\n",
        "df_2004['IV7'].replace(cambios_iv7, inplace=True)\n",
        "df_2004['IV9'].replace(cambios_iv9, inplace=True)\n",
        "df_2004['IV10'].replace(cambios_iv10, inplace=True)\n",
        "df_2004['IV11'].replace(cambios_iv11, inplace=True)\n",
        "df_2004['II7'].replace(cambios_ii7, inplace=True)\n",
        "df_2004['II8'].replace(cambios_ii8, inplace=True)\n",
        "df_2004['II9'].replace(cambios_ii9, inplace=True)\n",
        "\n",
        "# Filtrar las observaciones para CABA (AGLOMERADO = 32) y GBA (AGLOMERADO = 33) en 2004 y 2024\n",
        "\n",
        "df_2004_caba_gba = df_2004[df_2004['AGLOMERADO'].isin([32,33])]\n",
        "\n",
        "df_2024_caba_gba = df_2024[df_2024['AGLOMERADO'].isin([32,33])]\n",
        "\n",
        "# Unir ambos trimestres de la EPH Hogar\n",
        "\n",
        "df_2004_2024_caba_gba_hog = pd.concat([df_2004_caba_gba, df_2024_caba_gba], ignore_index=True)\n",
        "\n",
        "# Unir la EPH Hogar con la EPH Individuo, para iguales trimestres de\n",
        "# 2004 y 2024, respectivamente.\n",
        "\n",
        "df_2004_2024_caba_gba = pd.merge(df_2004_2024_caba_gba_ind, df_2004_2024_caba_gba_hog, on=[\"CODUSU\", \"NRO_HOGAR\"\n",
        "], how=\"inner\")"
      ],
      "metadata": {
        "colab": {
          "base_uri": "https://localhost:8080/"
        },
        "id": "wVuq2HypFxi4",
        "outputId": "49b0e6cd-8a4d-4ba2-a9de-721f62438b0c"
      },
      "execution_count": 3,
      "outputs": [
        {
          "output_type": "stream",
          "name": "stderr",
          "text": [
            "<ipython-input-3-1e4643f199b3>:12: FutureWarning: Downcasting behavior in `replace` is deprecated and will be removed in a future version. To retain the old behavior, explicitly call `result.infer_objects(copy=False)`. To opt-in to the future behavior, set `pd.set_option('future.no_silent_downcasting', True)`\n",
            "  df_2004.replace({'Si': 1, 'Sí': 1, 'No': 2}, inplace=True)\n",
            "<ipython-input-3-1e4643f199b3>:12: FutureWarning: The behavior of Series.replace (and DataFrame.replace) with CategoricalDtype is deprecated. In a future version, replace will only be used for cases that preserve the categories. To change the categories, use ser.cat.rename_categories instead.\n",
            "  df_2004.replace({'Si': 1, 'Sí': 1, 'No': 2}, inplace=True)\n",
            "<ipython-input-3-1e4643f199b3>:12: FutureWarning: Downcasting behavior in `replace` is deprecated and will be removed in a future version. To retain the old behavior, explicitly call `result.infer_objects(copy=False)`. To opt-in to the future behavior, set `pd.set_option('future.no_silent_downcasting', True)`\n",
            "  df_2004.replace({'Si': 1, 'Sí': 1, 'No': 2}, inplace=True)\n",
            "<ipython-input-3-1e4643f199b3>:12: FutureWarning: The behavior of Series.replace (and DataFrame.replace) with CategoricalDtype is deprecated. In a future version, replace will only be used for cases that preserve the categories. To change the categories, use ser.cat.rename_categories instead.\n",
            "  df_2004.replace({'Si': 1, 'Sí': 1, 'No': 2}, inplace=True)\n",
            "<ipython-input-3-1e4643f199b3>:12: FutureWarning: Downcasting behavior in `replace` is deprecated and will be removed in a future version. To retain the old behavior, explicitly call `result.infer_objects(copy=False)`. To opt-in to the future behavior, set `pd.set_option('future.no_silent_downcasting', True)`\n",
            "  df_2004.replace({'Si': 1, 'Sí': 1, 'No': 2}, inplace=True)\n",
            "<ipython-input-3-1e4643f199b3>:12: FutureWarning: The behavior of Series.replace (and DataFrame.replace) with CategoricalDtype is deprecated. In a future version, replace will only be used for cases that preserve the categories. To change the categories, use ser.cat.rename_categories instead.\n",
            "  df_2004.replace({'Si': 1, 'Sí': 1, 'No': 2}, inplace=True)\n",
            "<ipython-input-3-1e4643f199b3>:12: FutureWarning: Downcasting behavior in `replace` is deprecated and will be removed in a future version. To retain the old behavior, explicitly call `result.infer_objects(copy=False)`. To opt-in to the future behavior, set `pd.set_option('future.no_silent_downcasting', True)`\n",
            "  df_2004.replace({'Si': 1, 'Sí': 1, 'No': 2}, inplace=True)\n",
            "<ipython-input-3-1e4643f199b3>:12: FutureWarning: The behavior of Series.replace (and DataFrame.replace) with CategoricalDtype is deprecated. In a future version, replace will only be used for cases that preserve the categories. To change the categories, use ser.cat.rename_categories instead.\n",
            "  df_2004.replace({'Si': 1, 'Sí': 1, 'No': 2}, inplace=True)\n",
            "<ipython-input-3-1e4643f199b3>:12: FutureWarning: Downcasting behavior in `replace` is deprecated and will be removed in a future version. To retain the old behavior, explicitly call `result.infer_objects(copy=False)`. To opt-in to the future behavior, set `pd.set_option('future.no_silent_downcasting', True)`\n",
            "  df_2004.replace({'Si': 1, 'Sí': 1, 'No': 2}, inplace=True)\n",
            "<ipython-input-3-1e4643f199b3>:12: FutureWarning: The behavior of Series.replace (and DataFrame.replace) with CategoricalDtype is deprecated. In a future version, replace will only be used for cases that preserve the categories. To change the categories, use ser.cat.rename_categories instead.\n",
            "  df_2004.replace({'Si': 1, 'Sí': 1, 'No': 2}, inplace=True)\n",
            "<ipython-input-3-1e4643f199b3>:12: FutureWarning: Downcasting behavior in `replace` is deprecated and will be removed in a future version. To retain the old behavior, explicitly call `result.infer_objects(copy=False)`. To opt-in to the future behavior, set `pd.set_option('future.no_silent_downcasting', True)`\n",
            "  df_2004.replace({'Si': 1, 'Sí': 1, 'No': 2}, inplace=True)\n",
            "<ipython-input-3-1e4643f199b3>:12: FutureWarning: The behavior of Series.replace (and DataFrame.replace) with CategoricalDtype is deprecated. In a future version, replace will only be used for cases that preserve the categories. To change the categories, use ser.cat.rename_categories instead.\n",
            "  df_2004.replace({'Si': 1, 'Sí': 1, 'No': 2}, inplace=True)\n",
            "<ipython-input-3-1e4643f199b3>:14: FutureWarning: Downcasting behavior in `replace` is deprecated and will be removed in a future version. To retain the old behavior, explicitly call `result.infer_objects(copy=False)`. To opt-in to the future behavior, set `pd.set_option('future.no_silent_downcasting', True)`\n",
            "  df_2004_2024_caba_gba_ind.replace({'Si': 1, 'Sí': 1, 'No': 2}, inplace=True)\n",
            "<ipython-input-3-1e4643f199b3>:17: FutureWarning: The behavior of Series.replace (and DataFrame.replace) with CategoricalDtype is deprecated. In a future version, replace will only be used for cases that preserve the categories. To change the categories, use ser.cat.rename_categories instead.\n",
            "  df_2004.replace({'Servicio doméstico': 96,\n",
            "<ipython-input-3-1e4643f199b3>:17: FutureWarning: Downcasting behavior in `replace` is deprecated and will be removed in a future version. To retain the old behavior, explicitly call `result.infer_objects(copy=False)`. To opt-in to the future behavior, set `pd.set_option('future.no_silent_downcasting', True)`\n",
            "  df_2004.replace({'Servicio doméstico': 96,\n",
            "<ipython-input-3-1e4643f199b3>:17: FutureWarning: The behavior of Series.replace (and DataFrame.replace) with CategoricalDtype is deprecated. In a future version, replace will only be used for cases that preserve the categories. To change the categories, use ser.cat.rename_categories instead.\n",
            "  df_2004.replace({'Servicio doméstico': 96,\n",
            "<ipython-input-3-1e4643f199b3>:17: FutureWarning: Downcasting behavior in `replace` is deprecated and will be removed in a future version. To retain the old behavior, explicitly call `result.infer_objects(copy=False)`. To opt-in to the future behavior, set `pd.set_option('future.no_silent_downcasting', True)`\n",
            "  df_2004.replace({'Servicio doméstico': 96,\n",
            "<ipython-input-3-1e4643f199b3>:17: FutureWarning: The behavior of Series.replace (and DataFrame.replace) with CategoricalDtype is deprecated. In a future version, replace will only be used for cases that preserve the categories. To change the categories, use ser.cat.rename_categories instead.\n",
            "  df_2004.replace({'Servicio doméstico': 96,\n",
            "<ipython-input-3-1e4643f199b3>:17: FutureWarning: Downcasting behavior in `replace` is deprecated and will be removed in a future version. To retain the old behavior, explicitly call `result.infer_objects(copy=False)`. To opt-in to the future behavior, set `pd.set_option('future.no_silent_downcasting', True)`\n",
            "  df_2004.replace({'Servicio doméstico': 96,\n",
            "<ipython-input-3-1e4643f199b3>:17: FutureWarning: The behavior of Series.replace (and DataFrame.replace) with CategoricalDtype is deprecated. In a future version, replace will only be used for cases that preserve the categories. To change the categories, use ser.cat.rename_categories instead.\n",
            "  df_2004.replace({'Servicio doméstico': 96,\n",
            "<ipython-input-3-1e4643f199b3>:17: FutureWarning: Downcasting behavior in `replace` is deprecated and will be removed in a future version. To retain the old behavior, explicitly call `result.infer_objects(copy=False)`. To opt-in to the future behavior, set `pd.set_option('future.no_silent_downcasting', True)`\n",
            "  df_2004.replace({'Servicio doméstico': 96,\n",
            "<ipython-input-3-1e4643f199b3>:17: FutureWarning: The behavior of Series.replace (and DataFrame.replace) with CategoricalDtype is deprecated. In a future version, replace will only be used for cases that preserve the categories. To change the categories, use ser.cat.rename_categories instead.\n",
            "  df_2004.replace({'Servicio doméstico': 96,\n",
            "<ipython-input-3-1e4643f199b3>:17: FutureWarning: Downcasting behavior in `replace` is deprecated and will be removed in a future version. To retain the old behavior, explicitly call `result.infer_objects(copy=False)`. To opt-in to the future behavior, set `pd.set_option('future.no_silent_downcasting', True)`\n",
            "  df_2004.replace({'Servicio doméstico': 96,\n",
            "<ipython-input-3-1e4643f199b3>:17: FutureWarning: The behavior of Series.replace (and DataFrame.replace) with CategoricalDtype is deprecated. In a future version, replace will only be used for cases that preserve the categories. To change the categories, use ser.cat.rename_categories instead.\n",
            "  df_2004.replace({'Servicio doméstico': 96,\n",
            "<ipython-input-3-1e4643f199b3>:118: FutureWarning: A value is trying to be set on a copy of a DataFrame or Series through chained assignment using an inplace method.\n",
            "The behavior will change in pandas 3.0. This inplace method will never work because the intermediate object on which we are setting values always behaves as a copy.\n",
            "\n",
            "For example, when doing 'df[col].method(value, inplace=True)', try using 'df.method({col: value}, inplace=True)' or df[col] = df[col].method(value) instead, to perform the operation inplace on the original object.\n",
            "\n",
            "\n",
            "  df_2004['AGLOMERADO'].replace(cambios_aglomerado, inplace=True)\n",
            "<ipython-input-3-1e4643f199b3>:118: FutureWarning: The behavior of Series.replace (and DataFrame.replace) with CategoricalDtype is deprecated. In a future version, replace will only be used for cases that preserve the categories. To change the categories, use ser.cat.rename_categories instead.\n",
            "  df_2004['AGLOMERADO'].replace(cambios_aglomerado, inplace=True)\n",
            "<ipython-input-3-1e4643f199b3>:119: FutureWarning: A value is trying to be set on a copy of a DataFrame or Series through chained assignment using an inplace method.\n",
            "The behavior will change in pandas 3.0. This inplace method will never work because the intermediate object on which we are setting values always behaves as a copy.\n",
            "\n",
            "For example, when doing 'df[col].method(value, inplace=True)', try using 'df.method({col: value}, inplace=True)' or df[col] = df[col].method(value) instead, to perform the operation inplace on the original object.\n",
            "\n",
            "\n",
            "  df_2004['IV1'].replace(cambios_iv1, inplace=True)\n",
            "<ipython-input-3-1e4643f199b3>:119: FutureWarning: The behavior of Series.replace (and DataFrame.replace) with CategoricalDtype is deprecated. In a future version, replace will only be used for cases that preserve the categories. To change the categories, use ser.cat.rename_categories instead.\n",
            "  df_2004['IV1'].replace(cambios_iv1, inplace=True)\n",
            "<ipython-input-3-1e4643f199b3>:120: FutureWarning: A value is trying to be set on a copy of a DataFrame or Series through chained assignment using an inplace method.\n",
            "The behavior will change in pandas 3.0. This inplace method will never work because the intermediate object on which we are setting values always behaves as a copy.\n",
            "\n",
            "For example, when doing 'df[col].method(value, inplace=True)', try using 'df.method({col: value}, inplace=True)' or df[col] = df[col].method(value) instead, to perform the operation inplace on the original object.\n",
            "\n",
            "\n",
            "  df_2004['IV3'].replace(cambios_iv3, inplace=True)\n",
            "<ipython-input-3-1e4643f199b3>:120: FutureWarning: The behavior of Series.replace (and DataFrame.replace) with CategoricalDtype is deprecated. In a future version, replace will only be used for cases that preserve the categories. To change the categories, use ser.cat.rename_categories instead.\n",
            "  df_2004['IV3'].replace(cambios_iv3, inplace=True)\n",
            "<ipython-input-3-1e4643f199b3>:121: FutureWarning: A value is trying to be set on a copy of a DataFrame or Series through chained assignment using an inplace method.\n",
            "The behavior will change in pandas 3.0. This inplace method will never work because the intermediate object on which we are setting values always behaves as a copy.\n",
            "\n",
            "For example, when doing 'df[col].method(value, inplace=True)', try using 'df.method({col: value}, inplace=True)' or df[col] = df[col].method(value) instead, to perform the operation inplace on the original object.\n",
            "\n",
            "\n",
            "  df_2004['IV4'].replace(cambios_iv4, inplace=True)\n",
            "<ipython-input-3-1e4643f199b3>:121: FutureWarning: The behavior of Series.replace (and DataFrame.replace) with CategoricalDtype is deprecated. In a future version, replace will only be used for cases that preserve the categories. To change the categories, use ser.cat.rename_categories instead.\n",
            "  df_2004['IV4'].replace(cambios_iv4, inplace=True)\n",
            "<ipython-input-3-1e4643f199b3>:122: FutureWarning: A value is trying to be set on a copy of a DataFrame or Series through chained assignment using an inplace method.\n",
            "The behavior will change in pandas 3.0. This inplace method will never work because the intermediate object on which we are setting values always behaves as a copy.\n",
            "\n",
            "For example, when doing 'df[col].method(value, inplace=True)', try using 'df.method({col: value}, inplace=True)' or df[col] = df[col].method(value) instead, to perform the operation inplace on the original object.\n",
            "\n",
            "\n",
            "  df_2004['IV6'].replace(cambios_iv6, inplace=True)\n",
            "<ipython-input-3-1e4643f199b3>:122: FutureWarning: Downcasting behavior in `replace` is deprecated and will be removed in a future version. To retain the old behavior, explicitly call `result.infer_objects(copy=False)`. To opt-in to the future behavior, set `pd.set_option('future.no_silent_downcasting', True)`\n",
            "  df_2004['IV6'].replace(cambios_iv6, inplace=True)\n",
            "<ipython-input-3-1e4643f199b3>:122: FutureWarning: The behavior of Series.replace (and DataFrame.replace) with CategoricalDtype is deprecated. In a future version, replace will only be used for cases that preserve the categories. To change the categories, use ser.cat.rename_categories instead.\n",
            "  df_2004['IV6'].replace(cambios_iv6, inplace=True)\n",
            "<ipython-input-3-1e4643f199b3>:123: FutureWarning: A value is trying to be set on a copy of a DataFrame or Series through chained assignment using an inplace method.\n",
            "The behavior will change in pandas 3.0. This inplace method will never work because the intermediate object on which we are setting values always behaves as a copy.\n",
            "\n",
            "For example, when doing 'df[col].method(value, inplace=True)', try using 'df.method({col: value}, inplace=True)' or df[col] = df[col].method(value) instead, to perform the operation inplace on the original object.\n",
            "\n",
            "\n",
            "  df_2004['IV7'].replace(cambios_iv7, inplace=True)\n",
            "<ipython-input-3-1e4643f199b3>:123: FutureWarning: The behavior of Series.replace (and DataFrame.replace) with CategoricalDtype is deprecated. In a future version, replace will only be used for cases that preserve the categories. To change the categories, use ser.cat.rename_categories instead.\n",
            "  df_2004['IV7'].replace(cambios_iv7, inplace=True)\n",
            "<ipython-input-3-1e4643f199b3>:124: FutureWarning: A value is trying to be set on a copy of a DataFrame or Series through chained assignment using an inplace method.\n",
            "The behavior will change in pandas 3.0. This inplace method will never work because the intermediate object on which we are setting values always behaves as a copy.\n",
            "\n",
            "For example, when doing 'df[col].method(value, inplace=True)', try using 'df.method({col: value}, inplace=True)' or df[col] = df[col].method(value) instead, to perform the operation inplace on the original object.\n",
            "\n",
            "\n",
            "  df_2004['IV9'].replace(cambios_iv9, inplace=True)\n",
            "<ipython-input-3-1e4643f199b3>:124: FutureWarning: Downcasting behavior in `replace` is deprecated and will be removed in a future version. To retain the old behavior, explicitly call `result.infer_objects(copy=False)`. To opt-in to the future behavior, set `pd.set_option('future.no_silent_downcasting', True)`\n",
            "  df_2004['IV9'].replace(cambios_iv9, inplace=True)\n",
            "<ipython-input-3-1e4643f199b3>:124: FutureWarning: The behavior of Series.replace (and DataFrame.replace) with CategoricalDtype is deprecated. In a future version, replace will only be used for cases that preserve the categories. To change the categories, use ser.cat.rename_categories instead.\n",
            "  df_2004['IV9'].replace(cambios_iv9, inplace=True)\n",
            "<ipython-input-3-1e4643f199b3>:125: FutureWarning: A value is trying to be set on a copy of a DataFrame or Series through chained assignment using an inplace method.\n",
            "The behavior will change in pandas 3.0. This inplace method will never work because the intermediate object on which we are setting values always behaves as a copy.\n",
            "\n",
            "For example, when doing 'df[col].method(value, inplace=True)', try using 'df.method({col: value}, inplace=True)' or df[col] = df[col].method(value) instead, to perform the operation inplace on the original object.\n",
            "\n",
            "\n",
            "  df_2004['IV10'].replace(cambios_iv10, inplace=True)\n",
            "<ipython-input-3-1e4643f199b3>:125: FutureWarning: The behavior of Series.replace (and DataFrame.replace) with CategoricalDtype is deprecated. In a future version, replace will only be used for cases that preserve the categories. To change the categories, use ser.cat.rename_categories instead.\n",
            "  df_2004['IV10'].replace(cambios_iv10, inplace=True)\n",
            "<ipython-input-3-1e4643f199b3>:126: FutureWarning: A value is trying to be set on a copy of a DataFrame or Series through chained assignment using an inplace method.\n",
            "The behavior will change in pandas 3.0. This inplace method will never work because the intermediate object on which we are setting values always behaves as a copy.\n",
            "\n",
            "For example, when doing 'df[col].method(value, inplace=True)', try using 'df.method({col: value}, inplace=True)' or df[col] = df[col].method(value) instead, to perform the operation inplace on the original object.\n",
            "\n",
            "\n",
            "  df_2004['IV11'].replace(cambios_iv11, inplace=True)\n",
            "<ipython-input-3-1e4643f199b3>:126: FutureWarning: The behavior of Series.replace (and DataFrame.replace) with CategoricalDtype is deprecated. In a future version, replace will only be used for cases that preserve the categories. To change the categories, use ser.cat.rename_categories instead.\n",
            "  df_2004['IV11'].replace(cambios_iv11, inplace=True)\n",
            "<ipython-input-3-1e4643f199b3>:127: FutureWarning: A value is trying to be set on a copy of a DataFrame or Series through chained assignment using an inplace method.\n",
            "The behavior will change in pandas 3.0. This inplace method will never work because the intermediate object on which we are setting values always behaves as a copy.\n",
            "\n",
            "For example, when doing 'df[col].method(value, inplace=True)', try using 'df.method({col: value}, inplace=True)' or df[col] = df[col].method(value) instead, to perform the operation inplace on the original object.\n",
            "\n",
            "\n",
            "  df_2004['II7'].replace(cambios_ii7, inplace=True)\n",
            "<ipython-input-3-1e4643f199b3>:127: FutureWarning: The behavior of Series.replace (and DataFrame.replace) with CategoricalDtype is deprecated. In a future version, replace will only be used for cases that preserve the categories. To change the categories, use ser.cat.rename_categories instead.\n",
            "  df_2004['II7'].replace(cambios_ii7, inplace=True)\n",
            "<ipython-input-3-1e4643f199b3>:128: FutureWarning: A value is trying to be set on a copy of a DataFrame or Series through chained assignment using an inplace method.\n",
            "The behavior will change in pandas 3.0. This inplace method will never work because the intermediate object on which we are setting values always behaves as a copy.\n",
            "\n",
            "For example, when doing 'df[col].method(value, inplace=True)', try using 'df.method({col: value}, inplace=True)' or df[col] = df[col].method(value) instead, to perform the operation inplace on the original object.\n",
            "\n",
            "\n",
            "  df_2004['II8'].replace(cambios_ii8, inplace=True)\n",
            "<ipython-input-3-1e4643f199b3>:128: FutureWarning: The behavior of Series.replace (and DataFrame.replace) with CategoricalDtype is deprecated. In a future version, replace will only be used for cases that preserve the categories. To change the categories, use ser.cat.rename_categories instead.\n",
            "  df_2004['II8'].replace(cambios_ii8, inplace=True)\n",
            "<ipython-input-3-1e4643f199b3>:129: FutureWarning: A value is trying to be set on a copy of a DataFrame or Series through chained assignment using an inplace method.\n",
            "The behavior will change in pandas 3.0. This inplace method will never work because the intermediate object on which we are setting values always behaves as a copy.\n",
            "\n",
            "For example, when doing 'df[col].method(value, inplace=True)', try using 'df.method({col: value}, inplace=True)' or df[col] = df[col].method(value) instead, to perform the operation inplace on the original object.\n",
            "\n",
            "\n",
            "  df_2004['II9'].replace(cambios_ii9, inplace=True)\n",
            "<ipython-input-3-1e4643f199b3>:129: FutureWarning: The behavior of Series.replace (and DataFrame.replace) with CategoricalDtype is deprecated. In a future version, replace will only be used for cases that preserve the categories. To change the categories, use ser.cat.rename_categories instead.\n",
            "  df_2004['II9'].replace(cambios_ii9, inplace=True)\n"
          ]
        }
      ]
    },
    {
      "cell_type": "markdown",
      "source": [
        "#### 3.\tLimpien la base de datos tomando criterios que hagan sentido. Explicar cualquier decisión como el tratamiento de valores faltantes (missing values), extremos (outliers), o variables categóricas. Justifique sus decisiones."
      ],
      "metadata": {
        "id": "ggH2zeFggE8L"
      }
    },
    {
      "cell_type": "code",
      "source": [
        "# La primera limpieza necesaria es eliminar las columnas que terminana en \"_x\" y\n",
        "# dejar las de \"_y\". Ambas eran variables iguales y me quedo con las de hogar porque son de\n",
        "# formato float64.\n",
        "\n",
        "# Eliminar todas las columnas que terminan en '_x'\n",
        "df_2004_2024_caba_gba_fil = df_2004_2024_caba_gba[[col for col in df_2004_2024_caba_gba.columns if not col.endswith('_x')]]\n",
        "\n",
        "# Renombrar las columnas que terminan en '_y' para quitar el sufijo\n",
        "df_2004_2024_caba_gba_fil.columns = [col[:-2] if col.endswith('_y') else col for col in df_2004_2024_caba_gba_fil.columns]\n",
        "\n",
        "# Limpiar la cantidad de ambientes mayores a 11\n",
        "# Eliminar la cantidad de miembros del hogar mayores a 10\n",
        "# Edad mayor a cero\n",
        "\n",
        "# Eliminar filas donde 'IV2' > 11\n",
        "df_2004_2024_caba_gba_fil = df_2004_2024_caba_gba_fil[df_2004_2024_caba_gba_fil['IV2'] <= 11]\n",
        "\n",
        "# Eliminar filas donde 'IX_TOT' > 10\n",
        "df_2004_2024_caba_gba_fil = df_2004_2024_caba_gba_fil[df_2004_2024_caba_gba_fil['IX_TOT'] <= 10]\n",
        "\n",
        "# Eliminar filas donde 'CH06' <= 0\n",
        "df_2004_2024_caba_gba_fil = df_2004_2024_caba_gba_fil[df_2004_2024_caba_gba_fil['CH06'] > 0]\n",
        "\n"
      ],
      "metadata": {
        "id": "Scme3OWA1mUH"
      },
      "execution_count": 4,
      "outputs": []
    },
    {
      "cell_type": "markdown",
      "source": [
        "#### 4.\tConstruya variables (mínimo 3) que no estén en la base pero que sean relevantes para predecir individuos desocupados (por ejemplo, la proporción de personas que trabajan en el hogar)."
      ],
      "metadata": {
        "id": "tHI8bk06MepD"
      }
    },
    {
      "cell_type": "code",
      "source": [
        "# Adultos mayores en el hogar\n",
        "\n",
        "## Filtrar los miembros mayores a 65 años\n",
        "df_mayores_65 = df_2004_2024_caba_gba_fil[df_2004_2024_caba_gba_fil['CH06'] > 65]\n",
        "\n",
        "## Agrupar por 'CODUSU' y 'NRO_HOGAR' y contar la cantidad de personas mayores a 65\n",
        "df_mayores_65_count = df_mayores_65.groupby(['CODUSU', 'NRO_HOGAR']).size().reset_index(name='MIEMBROS_MAYORES_65')\n",
        "\n",
        "## Unir el conteo al DataFrame original (para agregar la nueva columna)\n",
        "df_2004_2024_caba_gba_fil = pd.merge(df_2004_2024_caba_gba_fil, df_mayores_65_count, on=['CODUSU', 'NRO_HOGAR'], how='left')\n",
        "\n",
        "## Rellenar los valores NaN con 0 y convertir la columna a tipo int\n",
        "df_2004_2024_caba_gba_fil['MIEMBROS_MAYORES_65'] = df_2004_2024_caba_gba_fil['MIEMBROS_MAYORES_65'].fillna(0).astype(int)\n",
        "\n",
        "# Dummy si el hogar recibe alguna transferencia del estado\n",
        "\n",
        "df_2004_2024_caba_gba_fil['AYUDA_GOBIERNO'] = (\n",
        "    (df_2004_2024_caba_gba_fil[['V1', 'V2', 'V21', 'V22', 'V5']] == 1).any(axis=1).astype(int)\n",
        ")\n",
        "\n",
        "df_2004_2024_caba_gba_fil['AYUDA_GOBIERNO1'] = (\n",
        "    (df_2004_2024_caba_gba_fil[['V4', 'V5']] == 1).any(axis=1).astype(int)\n",
        ")\n",
        "\n",
        "# Niños en primera infancia en el hogar\n",
        "\n",
        "df_menores_6 = df_2004_2024_caba_gba_fil[df_2004_2024_caba_gba_fil['CH06'] < 6]\n",
        "df_menores_6_count = df_menores_6.groupby(['CODUSU', 'NRO_HOGAR']).size().reset_index(name='MIEMBROS_MENORES_6')\n",
        "df_2004_2024_caba_gba_fil = pd.merge(df_2004_2024_caba_gba_fil, df_menores_6_count, on=['CODUSU', 'NRO_HOGAR'], how='left')\n",
        "df_2004_2024_caba_gba_fil['MIEMBROS_MENORES_6'] = df_2004_2024_caba_gba_fil['MIEMBROS_MENORES_6'].fillna(0).astype(int)\n"
      ],
      "metadata": {
        "id": "z-dM7ko9MiZJ"
      },
      "execution_count": 5,
      "outputs": []
    },
    {
      "cell_type": "markdown",
      "source": [
        "5.\tPresenten estadísticas descriptivas de tres variables de la encuesta de hogar que ustedes creen que pueden ser relevantes para predecir la desocupación. Comenten las estadísticas obtenidas."
      ],
      "metadata": {
        "id": "dZZ2N-7CqCEo"
      }
    },
    {
      "cell_type": "markdown",
      "source": [
        "i. Número de adultos mayores"
      ],
      "metadata": {
        "id": "FwmzgNJ-cGRo"
      }
    },
    {
      "cell_type": "code",
      "source": [
        "# Agregar la columna PEA (Población Económicamente Activa)\n",
        "df_2004_2024_caba_gba_fil['PEA'] = df_2004_2024_caba_gba_fil['ESTADO'].apply(lambda x: 1 if x in [1, 2] else 0)"
      ],
      "metadata": {
        "id": "FCwCIDOsynZs"
      },
      "execution_count": 6,
      "outputs": []
    },
    {
      "cell_type": "code",
      "source": [
        "# Agregar la columna desocupado\n",
        "df_2004_2024_caba_gba_fil['desocupado'] = df_2004_2024_caba_gba_fil['ESTADO'].apply(lambda x: 1 if x == 2 else 0)"
      ],
      "metadata": {
        "id": "j93fTTMDYblc"
      },
      "execution_count": 7,
      "outputs": []
    },
    {
      "cell_type": "code",
      "source": [
        "# Crea una base de datos unicos\n",
        "uni=df_2004_2024_caba_gba_fil.groupby(['CODUSU', 'NRO_HOGAR']).first()\n",
        "# Valor promedio de adultos mayores en los hogares\n",
        "# Solo se considera a los hogares que tienen al menos un adulto mayor en el hogar\n",
        "uni[uni['MIEMBROS_MAYORES_65']>0].groupby('ANO4')['MIEMBROS_MAYORES_65'].mean()"
      ],
      "metadata": {
        "colab": {
          "base_uri": "https://localhost:8080/",
          "height": 178
        },
        "id": "wKCexjxXgNTP",
        "outputId": "17ca9d7f-e86f-444d-c1ff-267ab9145113"
      },
      "execution_count": 8,
      "outputs": [
        {
          "output_type": "execute_result",
          "data": {
            "text/plain": [
              "ANO4\n",
              "2004.0    1.327640\n",
              "2024.0    1.306202\n",
              "Name: MIEMBROS_MAYORES_65, dtype: float64"
            ],
            "text/html": [
              "<div>\n",
              "<style scoped>\n",
              "    .dataframe tbody tr th:only-of-type {\n",
              "        vertical-align: middle;\n",
              "    }\n",
              "\n",
              "    .dataframe tbody tr th {\n",
              "        vertical-align: top;\n",
              "    }\n",
              "\n",
              "    .dataframe thead th {\n",
              "        text-align: right;\n",
              "    }\n",
              "</style>\n",
              "<table border=\"1\" class=\"dataframe\">\n",
              "  <thead>\n",
              "    <tr style=\"text-align: right;\">\n",
              "      <th></th>\n",
              "      <th>MIEMBROS_MAYORES_65</th>\n",
              "    </tr>\n",
              "    <tr>\n",
              "      <th>ANO4</th>\n",
              "      <th></th>\n",
              "    </tr>\n",
              "  </thead>\n",
              "  <tbody>\n",
              "    <tr>\n",
              "      <th>2004.0</th>\n",
              "      <td>1.327640</td>\n",
              "    </tr>\n",
              "    <tr>\n",
              "      <th>2024.0</th>\n",
              "      <td>1.306202</td>\n",
              "    </tr>\n",
              "  </tbody>\n",
              "</table>\n",
              "</div><br><label><b>dtype:</b> float64</label>"
            ]
          },
          "metadata": {},
          "execution_count": 8
        }
      ]
    },
    {
      "cell_type": "code",
      "source": [
        "#Porcentaje de encuestados según cantidad de adultos mayores de 65 años en sus hogares\n",
        "df_2004_2024_caba_gba_fil.groupby('ANO4')['MIEMBROS_MAYORES_65'].value_counts(normalize=True)*100"
      ],
      "metadata": {
        "colab": {
          "base_uri": "https://localhost:8080/",
          "height": 366
        },
        "id": "BkXFRFW2p1XT",
        "outputId": "cfd398b9-9d9f-4661-c5b5-07118baebf7a"
      },
      "execution_count": 9,
      "outputs": [
        {
          "output_type": "execute_result",
          "data": {
            "text/plain": [
              "ANO4    MIEMBROS_MAYORES_65\n",
              "2004.0  0                      79.530068\n",
              "        1                      13.673171\n",
              "        2                       6.517988\n",
              "        3                       0.278773\n",
              "2024.0  0                      75.248094\n",
              "        1                      16.079390\n",
              "        2                       8.485546\n",
              "        3                       0.186970\n",
              "Name: proportion, dtype: float64"
            ],
            "text/html": [
              "<div>\n",
              "<style scoped>\n",
              "    .dataframe tbody tr th:only-of-type {\n",
              "        vertical-align: middle;\n",
              "    }\n",
              "\n",
              "    .dataframe tbody tr th {\n",
              "        vertical-align: top;\n",
              "    }\n",
              "\n",
              "    .dataframe thead th {\n",
              "        text-align: right;\n",
              "    }\n",
              "</style>\n",
              "<table border=\"1\" class=\"dataframe\">\n",
              "  <thead>\n",
              "    <tr style=\"text-align: right;\">\n",
              "      <th></th>\n",
              "      <th></th>\n",
              "      <th>proportion</th>\n",
              "    </tr>\n",
              "    <tr>\n",
              "      <th>ANO4</th>\n",
              "      <th>MIEMBROS_MAYORES_65</th>\n",
              "      <th></th>\n",
              "    </tr>\n",
              "  </thead>\n",
              "  <tbody>\n",
              "    <tr>\n",
              "      <th rowspan=\"4\" valign=\"top\">2004.0</th>\n",
              "      <th>0</th>\n",
              "      <td>79.530068</td>\n",
              "    </tr>\n",
              "    <tr>\n",
              "      <th>1</th>\n",
              "      <td>13.673171</td>\n",
              "    </tr>\n",
              "    <tr>\n",
              "      <th>2</th>\n",
              "      <td>6.517988</td>\n",
              "    </tr>\n",
              "    <tr>\n",
              "      <th>3</th>\n",
              "      <td>0.278773</td>\n",
              "    </tr>\n",
              "    <tr>\n",
              "      <th rowspan=\"4\" valign=\"top\">2024.0</th>\n",
              "      <th>0</th>\n",
              "      <td>75.248094</td>\n",
              "    </tr>\n",
              "    <tr>\n",
              "      <th>1</th>\n",
              "      <td>16.079390</td>\n",
              "    </tr>\n",
              "    <tr>\n",
              "      <th>2</th>\n",
              "      <td>8.485546</td>\n",
              "    </tr>\n",
              "    <tr>\n",
              "      <th>3</th>\n",
              "      <td>0.186970</td>\n",
              "    </tr>\n",
              "  </tbody>\n",
              "</table>\n",
              "</div><br><label><b>dtype:</b> float64</label>"
            ]
          },
          "metadata": {},
          "execution_count": 9
        }
      ]
    },
    {
      "cell_type": "code",
      "source": [
        "# Datos para el año 2004 (calcular porcentajes)\n",
        "data_2004 = df_2004_2024_caba_gba_fil[df_2004_2024_caba_gba_fil['ANO4'] == 2004]['MIEMBROS_MAYORES_65'].value_counts(normalize=True) * 100\n",
        "\n",
        "# Datos para el año 2024 (calcular porcentajes)\n",
        "data_2024 = df_2004_2024_caba_gba_fil[df_2004_2024_caba_gba_fil['ANO4'] == 2024]['MIEMBROS_MAYORES_65'].value_counts(normalize=True) * 100\n",
        "\n",
        "# Configurar el tamaño de la figura\n",
        "plt.figure(figsize=(12, 6))\n",
        "\n",
        "# Ancho de las barras\n",
        "bar_width = 0.35\n",
        "index = range(len(data_2004))  # Índices para las barras\n",
        "\n",
        "# Gráfico para 2004\n",
        "plt.bar(index, data_2004, bar_width, color='skyblue', edgecolor='black', label='2004')\n",
        "\n",
        "# Gráfico para 2024 desplazado\n",
        "plt.bar([i + bar_width for i in index], data_2024, bar_width, color='lightgreen', edgecolor='black', label='2024')\n",
        "\n",
        "# Etiquetas y título\n",
        "plt.title('Distribución de encuestados según número de adultos mayores en el hogar, 2004 y 2024 (%)')\n",
        "plt.xlabel('Número de miembros mayores de 65 años')\n",
        "plt.ylabel('Porcentaje')\n",
        "\n",
        "# Ajuste de los ejes x\n",
        "plt.xticks([i + bar_width / 2 for i in index], data_2004.index)\n",
        "\n",
        "# Leyenda\n",
        "plt.legend()\n",
        "\n",
        "# Mostrar la cuadrícula\n",
        "plt.grid(False)\n",
        "\n",
        "# Mostrar el gráfico\n",
        "plt.show()\n"
      ],
      "metadata": {
        "colab": {
          "base_uri": "https://localhost:8080/",
          "height": 565
        },
        "id": "9J5DkVjwIgrR",
        "outputId": "7cab4ad5-7a29-44b5-d6f4-6332303d5f41"
      },
      "execution_count": 10,
      "outputs": [
        {
          "output_type": "display_data",
          "data": {
            "text/plain": [
              "<Figure size 1200x600 with 1 Axes>"
            ],
            "image/png": "[encoded data removed]"
          },
          "metadata": {}
        }
      ]
    },
    {
      "cell_type": "code",
      "source": [
        "# Proporción de encuestados según situacion de ocupación y cantidad de adultos mayores residentes en el hogar\n",
        "df_2004_2024_caba_gba_fil[df_2004_2024_caba_gba_fil['PEA'] == 1].groupby(['ANO4','desocupado'])['MIEMBROS_MAYORES_65'].value_counts(normalize=True)*100"
      ],
      "metadata": {
        "colab": {
          "base_uri": "https://localhost:8080/",
          "height": 585
        },
        "id": "ox1SZBvWYri8",
        "outputId": "76b97399-f491-41b5-98f3-cb7128921392"
      },
      "execution_count": 11,
      "outputs": [
        {
          "output_type": "execute_result",
          "data": {
            "text/plain": [
              "ANO4    desocupado  MIEMBROS_MAYORES_65\n",
              "2004.0  0           0                      86.250000\n",
              "                    1                      10.526316\n",
              "                    2                       3.092105\n",
              "                    3                       0.131579\n",
              "        1           0                      85.741445\n",
              "                    1                      11.787072\n",
              "                    2                       2.091255\n",
              "                    3                       0.380228\n",
              "2024.0  0           0                      84.205607\n",
              "                    1                      11.619938\n",
              "                    2                       4.143302\n",
              "                    3                       0.031153\n",
              "        1           0                      82.636656\n",
              "                    1                      12.540193\n",
              "                    2                       4.823151\n",
              "Name: proportion, dtype: float64"
            ],
            "text/html": [
              "<div>\n",
              "<style scoped>\n",
              "    .dataframe tbody tr th:only-of-type {\n",
              "        vertical-align: middle;\n",
              "    }\n",
              "\n",
              "    .dataframe tbody tr th {\n",
              "        vertical-align: top;\n",
              "    }\n",
              "\n",
              "    .dataframe thead th {\n",
              "        text-align: right;\n",
              "    }\n",
              "</style>\n",
              "<table border=\"1\" class=\"dataframe\">\n",
              "  <thead>\n",
              "    <tr style=\"text-align: right;\">\n",
              "      <th></th>\n",
              "      <th></th>\n",
              "      <th></th>\n",
              "      <th>proportion</th>\n",
              "    </tr>\n",
              "    <tr>\n",
              "      <th>ANO4</th>\n",
              "      <th>desocupado</th>\n",
              "      <th>MIEMBROS_MAYORES_65</th>\n",
              "      <th></th>\n",
              "    </tr>\n",
              "  </thead>\n",
              "  <tbody>\n",
              "    <tr>\n",
              "      <th rowspan=\"8\" valign=\"top\">2004.0</th>\n",
              "      <th rowspan=\"4\" valign=\"top\">0</th>\n",
              "      <th>0</th>\n",
              "      <td>86.250000</td>\n",
              "    </tr>\n",
              "    <tr>\n",
              "      <th>1</th>\n",
              "      <td>10.526316</td>\n",
              "    </tr>\n",
              "    <tr>\n",
              "      <th>2</th>\n",
              "      <td>3.092105</td>\n",
              "    </tr>\n",
              "    <tr>\n",
              "      <th>3</th>\n",
              "      <td>0.131579</td>\n",
              "    </tr>\n",
              "    <tr>\n",
              "      <th rowspan=\"4\" valign=\"top\">1</th>\n",
              "      <th>0</th>\n",
              "      <td>85.741445</td>\n",
              "    </tr>\n",
              "    <tr>\n",
              "      <th>1</th>\n",
              "      <td>11.787072</td>\n",
              "    </tr>\n",
              "    <tr>\n",
              "      <th>2</th>\n",
              "      <td>2.091255</td>\n",
              "    </tr>\n",
              "    <tr>\n",
              "      <th>3</th>\n",
              "      <td>0.380228</td>\n",
              "    </tr>\n",
              "    <tr>\n",
              "      <th rowspan=\"7\" valign=\"top\">2024.0</th>\n",
              "      <th rowspan=\"4\" valign=\"top\">0</th>\n",
              "      <th>0</th>\n",
              "      <td>84.205607</td>\n",
              "    </tr>\n",
              "    <tr>\n",
              "      <th>1</th>\n",
              "      <td>11.619938</td>\n",
              "    </tr>\n",
              "    <tr>\n",
              "      <th>2</th>\n",
              "      <td>4.143302</td>\n",
              "    </tr>\n",
              "    <tr>\n",
              "      <th>3</th>\n",
              "      <td>0.031153</td>\n",
              "    </tr>\n",
              "    <tr>\n",
              "      <th rowspan=\"3\" valign=\"top\">1</th>\n",
              "      <th>0</th>\n",
              "      <td>82.636656</td>\n",
              "    </tr>\n",
              "    <tr>\n",
              "      <th>1</th>\n",
              "      <td>12.540193</td>\n",
              "    </tr>\n",
              "    <tr>\n",
              "      <th>2</th>\n",
              "      <td>4.823151</td>\n",
              "    </tr>\n",
              "  </tbody>\n",
              "</table>\n",
              "</div><br><label><b>dtype:</b> float64</label>"
            ]
          },
          "metadata": {},
          "execution_count": 11
        }
      ]
    },
    {
      "cell_type": "markdown",
      "source": [
        "ii. Encuestados que reciben ayudan del gobierno"
      ],
      "metadata": {
        "id": "52CxXYsvqy-B"
      }
    },
    {
      "cell_type": "code",
      "source": [
        "# Proporción de encuestados según si reciben una transferencia del Estado\n",
        "df_2004_2024_caba_gba_fil.groupby(['ANO4'])['AYUDA_GOBIERNO1'].value_counts(normalize=True)*100"
      ],
      "metadata": {
        "colab": {
          "base_uri": "https://localhost:8080/",
          "height": 241
        },
        "id": "d4-7Bo50rIAm",
        "outputId": "ffb7493f-8094-47fb-c4ec-b704c62d3dd5"
      },
      "execution_count": 135,
      "outputs": [
        {
          "output_type": "execute_result",
          "data": {
            "text/plain": [
              "ANO4    AYUDA_GOBIERNO1\n",
              "2004.0  0                  93.229789\n",
              "        1                   6.770211\n",
              "2024.0  0                  81.993384\n",
              "        1                  18.006616\n",
              "Name: proportion, dtype: float64"
            ],
            "text/html": [
              "<div>\n",
              "<style scoped>\n",
              "    .dataframe tbody tr th:only-of-type {\n",
              "        vertical-align: middle;\n",
              "    }\n",
              "\n",
              "    .dataframe tbody tr th {\n",
              "        vertical-align: top;\n",
              "    }\n",
              "\n",
              "    .dataframe thead th {\n",
              "        text-align: right;\n",
              "    }\n",
              "</style>\n",
              "<table border=\"1\" class=\"dataframe\">\n",
              "  <thead>\n",
              "    <tr style=\"text-align: right;\">\n",
              "      <th></th>\n",
              "      <th></th>\n",
              "      <th>proportion</th>\n",
              "    </tr>\n",
              "    <tr>\n",
              "      <th>ANO4</th>\n",
              "      <th>AYUDA_GOBIERNO1</th>\n",
              "      <th></th>\n",
              "    </tr>\n",
              "  </thead>\n",
              "  <tbody>\n",
              "    <tr>\n",
              "      <th rowspan=\"2\" valign=\"top\">2004.0</th>\n",
              "      <th>0</th>\n",
              "      <td>93.229789</td>\n",
              "    </tr>\n",
              "    <tr>\n",
              "      <th>1</th>\n",
              "      <td>6.770211</td>\n",
              "    </tr>\n",
              "    <tr>\n",
              "      <th rowspan=\"2\" valign=\"top\">2024.0</th>\n",
              "      <th>0</th>\n",
              "      <td>81.993384</td>\n",
              "    </tr>\n",
              "    <tr>\n",
              "      <th>1</th>\n",
              "      <td>18.006616</td>\n",
              "    </tr>\n",
              "  </tbody>\n",
              "</table>\n",
              "</div><br><label><b>dtype:</b> float64</label>"
            ]
          },
          "metadata": {},
          "execution_count": 135
        }
      ]
    },
    {
      "cell_type": "code",
      "source": [
        "# Proporción de encuestados según situación de desocupación y si reciben una transferencia del Estado\n",
        "df_2004_2024_caba_gba_fil[(df_2004_2024_caba_gba_fil['PEA'] == 1)].groupby(['ANO4','desocupado'])['AYUDA_GOBIERNO1'].value_counts(normalize=True)*100"
      ],
      "metadata": {
        "colab": {
          "base_uri": "https://localhost:8080/",
          "height": 366
        },
        "id": "8xLPrzwAvlbZ",
        "outputId": "4b4d4136-99bc-4323-a540-98ab0e27bfc9"
      },
      "execution_count": 13,
      "outputs": [
        {
          "output_type": "execute_result",
          "data": {
            "text/plain": [
              "ANO4    desocupado  AYUDA_GOBIERNO1\n",
              "2004.0  0           0                  95.296053\n",
              "                    1                   4.703947\n",
              "        1           0                  88.022814\n",
              "                    1                  11.977186\n",
              "2024.0  0           0                  86.292835\n",
              "                    1                  13.707165\n",
              "        1           0                  77.813505\n",
              "                    1                  22.186495\n",
              "Name: proportion, dtype: float64"
            ],
            "text/html": [
              "<div>\n",
              "<style scoped>\n",
              "    .dataframe tbody tr th:only-of-type {\n",
              "        vertical-align: middle;\n",
              "    }\n",
              "\n",
              "    .dataframe tbody tr th {\n",
              "        vertical-align: top;\n",
              "    }\n",
              "\n",
              "    .dataframe thead th {\n",
              "        text-align: right;\n",
              "    }\n",
              "</style>\n",
              "<table border=\"1\" class=\"dataframe\">\n",
              "  <thead>\n",
              "    <tr style=\"text-align: right;\">\n",
              "      <th></th>\n",
              "      <th></th>\n",
              "      <th></th>\n",
              "      <th>proportion</th>\n",
              "    </tr>\n",
              "    <tr>\n",
              "      <th>ANO4</th>\n",
              "      <th>desocupado</th>\n",
              "      <th>AYUDA_GOBIERNO1</th>\n",
              "      <th></th>\n",
              "    </tr>\n",
              "  </thead>\n",
              "  <tbody>\n",
              "    <tr>\n",
              "      <th rowspan=\"4\" valign=\"top\">2004.0</th>\n",
              "      <th rowspan=\"2\" valign=\"top\">0</th>\n",
              "      <th>0</th>\n",
              "      <td>95.296053</td>\n",
              "    </tr>\n",
              "    <tr>\n",
              "      <th>1</th>\n",
              "      <td>4.703947</td>\n",
              "    </tr>\n",
              "    <tr>\n",
              "      <th rowspan=\"2\" valign=\"top\">1</th>\n",
              "      <th>0</th>\n",
              "      <td>88.022814</td>\n",
              "    </tr>\n",
              "    <tr>\n",
              "      <th>1</th>\n",
              "      <td>11.977186</td>\n",
              "    </tr>\n",
              "    <tr>\n",
              "      <th rowspan=\"4\" valign=\"top\">2024.0</th>\n",
              "      <th rowspan=\"2\" valign=\"top\">0</th>\n",
              "      <th>0</th>\n",
              "      <td>86.292835</td>\n",
              "    </tr>\n",
              "    <tr>\n",
              "      <th>1</th>\n",
              "      <td>13.707165</td>\n",
              "    </tr>\n",
              "    <tr>\n",
              "      <th rowspan=\"2\" valign=\"top\">1</th>\n",
              "      <th>0</th>\n",
              "      <td>77.813505</td>\n",
              "    </tr>\n",
              "    <tr>\n",
              "      <th>1</th>\n",
              "      <td>22.186495</td>\n",
              "    </tr>\n",
              "  </tbody>\n",
              "</table>\n",
              "</div><br><label><b>dtype:</b> float64</label>"
            ]
          },
          "metadata": {},
          "execution_count": 13
        }
      ]
    },
    {
      "cell_type": "markdown",
      "source": [
        "Número de niños en primera infancia"
      ],
      "metadata": {
        "id": "ecrDsolwjqJ-"
      }
    },
    {
      "cell_type": "code",
      "source": [
        "# Valor promedio de numero de niños en primera infancia en los hogares\n",
        "# Solo se considera a los hogares que tienen niños en primera infancia en el hogar\n",
        "uni[(uni['MIEMBROS_MENORES_6']>0) & (uni['MIEMBROS_MENORES_6']<4)].groupby('ANO4')['MIEMBROS_MENORES_6'].mean()"
      ],
      "metadata": {
        "colab": {
          "base_uri": "https://localhost:8080/",
          "height": 178
        },
        "id": "ifwrk9Vjjzeu",
        "outputId": "0ebf88d8-cd07-4458-eabe-b79dc57b45e5"
      },
      "execution_count": 14,
      "outputs": [
        {
          "output_type": "execute_result",
          "data": {
            "text/plain": [
              "ANO4\n",
              "2004.0    1.329114\n",
              "2024.0    1.184300\n",
              "Name: MIEMBROS_MENORES_6, dtype: float64"
            ],
            "text/html": [
              "<div>\n",
              "<style scoped>\n",
              "    .dataframe tbody tr th:only-of-type {\n",
              "        vertical-align: middle;\n",
              "    }\n",
              "\n",
              "    .dataframe tbody tr th {\n",
              "        vertical-align: top;\n",
              "    }\n",
              "\n",
              "    .dataframe thead th {\n",
              "        text-align: right;\n",
              "    }\n",
              "</style>\n",
              "<table border=\"1\" class=\"dataframe\">\n",
              "  <thead>\n",
              "    <tr style=\"text-align: right;\">\n",
              "      <th></th>\n",
              "      <th>MIEMBROS_MENORES_6</th>\n",
              "    </tr>\n",
              "    <tr>\n",
              "      <th>ANO4</th>\n",
              "      <th></th>\n",
              "    </tr>\n",
              "  </thead>\n",
              "  <tbody>\n",
              "    <tr>\n",
              "      <th>2004.0</th>\n",
              "      <td>1.329114</td>\n",
              "    </tr>\n",
              "    <tr>\n",
              "      <th>2024.0</th>\n",
              "      <td>1.184300</td>\n",
              "    </tr>\n",
              "  </tbody>\n",
              "</table>\n",
              "</div><br><label><b>dtype:</b> float64</label>"
            ]
          },
          "metadata": {},
          "execution_count": 14
        }
      ]
    },
    {
      "cell_type": "code",
      "source": [
        "#Porcentaje de encuestados según cantidad de menores de 6 años en sus hogares\n",
        "df_2004_2024_caba_gba_fil[df_2004_2024_caba_gba_fil['MIEMBROS_MENORES_6']<4].groupby('ANO4')['MIEMBROS_MENORES_6'].value_counts(normalize=True)*100"
      ],
      "metadata": {
        "colab": {
          "base_uri": "https://localhost:8080/",
          "height": 366
        },
        "id": "3nqVtCNvkaIt",
        "outputId": "7ba4c524-a2d5-4009-974e-1c37a2412e8c"
      },
      "execution_count": 15,
      "outputs": [
        {
          "output_type": "execute_result",
          "data": {
            "text/plain": [
              "ANO4    MIEMBROS_MENORES_6\n",
              "2004.0  0                     65.749601\n",
              "        1                     22.873472\n",
              "        2                      9.356725\n",
              "        3                      2.020202\n",
              "2024.0  0                     80.684597\n",
              "        1                     15.058248\n",
              "        2                      3.609953\n",
              "        3                      0.647203\n",
              "Name: proportion, dtype: float64"
            ],
            "text/html": [
              "<div>\n",
              "<style scoped>\n",
              "    .dataframe tbody tr th:only-of-type {\n",
              "        vertical-align: middle;\n",
              "    }\n",
              "\n",
              "    .dataframe tbody tr th {\n",
              "        vertical-align: top;\n",
              "    }\n",
              "\n",
              "    .dataframe thead th {\n",
              "        text-align: right;\n",
              "    }\n",
              "</style>\n",
              "<table border=\"1\" class=\"dataframe\">\n",
              "  <thead>\n",
              "    <tr style=\"text-align: right;\">\n",
              "      <th></th>\n",
              "      <th></th>\n",
              "      <th>proportion</th>\n",
              "    </tr>\n",
              "    <tr>\n",
              "      <th>ANO4</th>\n",
              "      <th>MIEMBROS_MENORES_6</th>\n",
              "      <th></th>\n",
              "    </tr>\n",
              "  </thead>\n",
              "  <tbody>\n",
              "    <tr>\n",
              "      <th rowspan=\"4\" valign=\"top\">2004.0</th>\n",
              "      <th>0</th>\n",
              "      <td>65.749601</td>\n",
              "    </tr>\n",
              "    <tr>\n",
              "      <th>1</th>\n",
              "      <td>22.873472</td>\n",
              "    </tr>\n",
              "    <tr>\n",
              "      <th>2</th>\n",
              "      <td>9.356725</td>\n",
              "    </tr>\n",
              "    <tr>\n",
              "      <th>3</th>\n",
              "      <td>2.020202</td>\n",
              "    </tr>\n",
              "    <tr>\n",
              "      <th rowspan=\"4\" valign=\"top\">2024.0</th>\n",
              "      <th>0</th>\n",
              "      <td>80.684597</td>\n",
              "    </tr>\n",
              "    <tr>\n",
              "      <th>1</th>\n",
              "      <td>15.058248</td>\n",
              "    </tr>\n",
              "    <tr>\n",
              "      <th>2</th>\n",
              "      <td>3.609953</td>\n",
              "    </tr>\n",
              "    <tr>\n",
              "      <th>3</th>\n",
              "      <td>0.647203</td>\n",
              "    </tr>\n",
              "  </tbody>\n",
              "</table>\n",
              "</div><br><label><b>dtype:</b> float64</label>"
            ]
          },
          "metadata": {},
          "execution_count": 15
        }
      ]
    },
    {
      "cell_type": "code",
      "source": [
        "# Datos para el año 2004 (calcular porcentajes)\n",
        "data_2004 = df_2004_2024_caba_gba_fil[(df_2004_2024_caba_gba_fil['ANO4'] == 2004) & (df_2004_2024_caba_gba_fil['MIEMBROS_MENORES_6'] < 4)]['MIEMBROS_MENORES_6'].value_counts(normalize=True) * 100\n",
        "\n",
        "# Datos para el año 2024 (calcular porcentajes)\n",
        "data_2024 = df_2004_2024_caba_gba_fil[df_2004_2024_caba_gba_fil['ANO4'] == 2024]['MIEMBROS_MENORES_6'].value_counts(normalize=True) * 100\n",
        "\n",
        "# Configurar el tamaño de la figura\n",
        "plt.figure(figsize=(12, 6))\n",
        "\n",
        "# Ancho de las barras\n",
        "bar_width = 0.35\n",
        "index = range(len(data_2004))  # Índices para las barras\n",
        "\n",
        "# Gráfico para 2004\n",
        "plt.bar(index, data_2004, bar_width, color='skyblue', edgecolor='black', label='2004')\n",
        "\n",
        "# Gráfico para 2024 desplazado\n",
        "plt.bar([i + bar_width for i in index], data_2024, bar_width, color='lightgreen', edgecolor='black', label='2024')\n",
        "\n",
        "# Etiquetas y título\n",
        "plt.title('Distribución de encuestados según número de menores en primera infancia en el hogar, 2004 y 2024 (%)')\n",
        "plt.xlabel('Número de niños de 6 años')\n",
        "plt.ylabel('Porcentaje')\n",
        "\n",
        "# Ajuste de los ejes x\n",
        "plt.xticks([i + bar_width / 2 for i in index], data_2004.index)\n",
        "\n",
        "# Leyenda\n",
        "plt.legend()\n",
        "\n",
        "# Mostrar la cuadrícula\n",
        "plt.grid(False)\n",
        "\n",
        "# Mostrar el gráfico\n",
        "plt.show()\n"
      ],
      "metadata": {
        "colab": {
          "base_uri": "https://localhost:8080/",
          "height": 565
        },
        "id": "Ydp3JEAbknx8",
        "outputId": "a49c90f3-4e47-4790-8aed-b0bf5421bf8f"
      },
      "execution_count": 16,
      "outputs": [
        {
          "output_type": "display_data",
          "data": {
            "text/plain": [
              "<Figure size 1200x600 with 1 Axes>"
            ],
            "image/png": "[encoded data removed]"
          },
          "metadata": {}
        }
      ]
    },
    {
      "cell_type": "code",
      "source": [
        "# Proporción de encuestados según situación de ocupación y número de niños menores de 6 años en el hogar\n",
        "df_2004_2024_caba_gba_fil[(df_2004_2024_caba_gba_fil['PEA'] == 1) & (df_2004_2024_caba_gba_fil['MIEMBROS_MENORES_6'] < 4)].groupby(['ANO4','desocupado'])['MIEMBROS_MENORES_6'].value_counts(normalize=True)*100"
      ],
      "metadata": {
        "colab": {
          "base_uri": "https://localhost:8080/",
          "height": 617
        },
        "id": "J0dLfEbjo61r",
        "outputId": "17c7be84-bd0a-41d5-d44e-8e252eb14fe6"
      },
      "execution_count": 17,
      "outputs": [
        {
          "output_type": "execute_result",
          "data": {
            "text/plain": [
              "ANO4    desocupado  MIEMBROS_MENORES_6\n",
              "2004.0  0           0                     70.958182\n",
              "                    1                     20.941719\n",
              "                    2                      7.079355\n",
              "                    3                      1.020744\n",
              "        1           0                     73.384030\n",
              "                    1                     18.821293\n",
              "                    2                      6.273764\n",
              "                    3                      1.520913\n",
              "2024.0  0           0                     85.233645\n",
              "                    1                     12.118380\n",
              "                    2                      2.242991\n",
              "                    3                      0.404984\n",
              "        1           0                     83.601286\n",
              "                    1                     13.504823\n",
              "                    2                      2.572347\n",
              "                    3                      0.321543\n",
              "Name: proportion, dtype: float64"
            ],
            "text/html": [
              "<div>\n",
              "<style scoped>\n",
              "    .dataframe tbody tr th:only-of-type {\n",
              "        vertical-align: middle;\n",
              "    }\n",
              "\n",
              "    .dataframe tbody tr th {\n",
              "        vertical-align: top;\n",
              "    }\n",
              "\n",
              "    .dataframe thead th {\n",
              "        text-align: right;\n",
              "    }\n",
              "</style>\n",
              "<table border=\"1\" class=\"dataframe\">\n",
              "  <thead>\n",
              "    <tr style=\"text-align: right;\">\n",
              "      <th></th>\n",
              "      <th></th>\n",
              "      <th></th>\n",
              "      <th>proportion</th>\n",
              "    </tr>\n",
              "    <tr>\n",
              "      <th>ANO4</th>\n",
              "      <th>desocupado</th>\n",
              "      <th>MIEMBROS_MENORES_6</th>\n",
              "      <th></th>\n",
              "    </tr>\n",
              "  </thead>\n",
              "  <tbody>\n",
              "    <tr>\n",
              "      <th rowspan=\"8\" valign=\"top\">2004.0</th>\n",
              "      <th rowspan=\"4\" valign=\"top\">0</th>\n",
              "      <th>0</th>\n",
              "      <td>70.958182</td>\n",
              "    </tr>\n",
              "    <tr>\n",
              "      <th>1</th>\n",
              "      <td>20.941719</td>\n",
              "    </tr>\n",
              "    <tr>\n",
              "      <th>2</th>\n",
              "      <td>7.079355</td>\n",
              "    </tr>\n",
              "    <tr>\n",
              "      <th>3</th>\n",
              "      <td>1.020744</td>\n",
              "    </tr>\n",
              "    <tr>\n",
              "      <th rowspan=\"4\" valign=\"top\">1</th>\n",
              "      <th>0</th>\n",
              "      <td>73.384030</td>\n",
              "    </tr>\n",
              "    <tr>\n",
              "      <th>1</th>\n",
              "      <td>18.821293</td>\n",
              "    </tr>\n",
              "    <tr>\n",
              "      <th>2</th>\n",
              "      <td>6.273764</td>\n",
              "    </tr>\n",
              "    <tr>\n",
              "      <th>3</th>\n",
              "      <td>1.520913</td>\n",
              "    </tr>\n",
              "    <tr>\n",
              "      <th rowspan=\"8\" valign=\"top\">2024.0</th>\n",
              "      <th rowspan=\"4\" valign=\"top\">0</th>\n",
              "      <th>0</th>\n",
              "      <td>85.233645</td>\n",
              "    </tr>\n",
              "    <tr>\n",
              "      <th>1</th>\n",
              "      <td>12.118380</td>\n",
              "    </tr>\n",
              "    <tr>\n",
              "      <th>2</th>\n",
              "      <td>2.242991</td>\n",
              "    </tr>\n",
              "    <tr>\n",
              "      <th>3</th>\n",
              "      <td>0.404984</td>\n",
              "    </tr>\n",
              "    <tr>\n",
              "      <th rowspan=\"4\" valign=\"top\">1</th>\n",
              "      <th>0</th>\n",
              "      <td>83.601286</td>\n",
              "    </tr>\n",
              "    <tr>\n",
              "      <th>1</th>\n",
              "      <td>13.504823</td>\n",
              "    </tr>\n",
              "    <tr>\n",
              "      <th>2</th>\n",
              "      <td>2.572347</td>\n",
              "    </tr>\n",
              "    <tr>\n",
              "      <th>3</th>\n",
              "      <td>0.321543</td>\n",
              "    </tr>\n",
              "  </tbody>\n",
              "</table>\n",
              "</div><br><label><b>dtype:</b> float64</label>"
            ]
          },
          "metadata": {},
          "execution_count": 17
        }
      ]
    },
    {
      "cell_type": "markdown",
      "source": [
        "II. Clasificación"
      ],
      "metadata": {
        "id": "19dLhq-fyzwj"
      }
    },
    {
      "cell_type": "markdown",
      "source": [
        "1.\tPara cada año, partan la base respondieron en una base de prueba y una de entrenamiento (X_train, y_train, X_test, y_test) utilizando el comando train_test_split. La base de entrenamiento debe comprender el 70% de los datos, y la semilla a utilizar (random state instance) debe ser 101. Establezca a desocupado como su variable dependiente en la base de entrenamiento (vector y). El resto de las variables serán las variables independientes (matriz X). Recuerden agregar la columna de unos (1)."
      ],
      "metadata": {
        "id": "8zZA2Htcx4Cm"
      }
    },
    {
      "cell_type": "code",
      "source": [
        "respondieron04 = df_2004_2024_caba_gba_fil[(df_2004_2024_caba_gba_fil['ANO4'] == 2004) & (df_2004_2024_caba_gba_fil['PEA'] == 1)]\n",
        "respondieron24 = df_2004_2024_caba_gba_fil[(df_2004_2024_caba_gba_fil['ANO4'] == 2024) & (df_2004_2024_caba_gba_fil['PEA'] == 1)]\n",
        "respondieron04r = respondieron04[['desocupado','CH04', 'CH06', 'CH07', 'CH08', 'NIVEL_ED', 'IPCF','MIEMBROS_MAYORES_65','AYUDA_GOBIERNO1','MIEMBROS_MENORES_6']]\n",
        "respondieron24r = respondieron24[['desocupado','CH04', 'CH06', 'CH07', 'CH08', 'NIVEL_ED', 'IPCF','MIEMBROS_MAYORES_65','AYUDA_GOBIERNO1','MIEMBROS_MENORES_6']]"
      ],
      "metadata": {
        "id": "cjySlG2ly3Uw"
      },
      "execution_count": 136,
      "outputs": []
    },
    {
      "cell_type": "markdown",
      "source": [
        "Para el año 2004"
      ],
      "metadata": {
        "id": "AevxLrBX007L"
      }
    },
    {
      "cell_type": "code",
      "source": [
        "x_04=respondieron04r.drop('desocupado', axis=1)\n",
        "y_04=respondieron04r['desocupado']\n",
        "x_train04, x_test04, y_train04, y_test04 = train_test_split(x_04, y_04, test_size=0.3, random_state=101)\n",
        "x_train1_04=sm.add_constant(x_train04)\n",
        "x_test1_04=sm.add_constant(x_test04)"
      ],
      "metadata": {
        "id": "7RCefXPe0263"
      },
      "execution_count": 137,
      "outputs": []
    },
    {
      "cell_type": "markdown",
      "source": [
        "Para el año 2024"
      ],
      "metadata": {
        "id": "_uR9osUbyOa8"
      }
    },
    {
      "cell_type": "code",
      "source": [
        "x_24=respondieron24r.drop('desocupado', axis=1)\n",
        "y_24=respondieron24r['desocupado']\n",
        "x_train24, x_test24, y_train24, y_test24 = train_test_split(x_24, y_24, test_size=0.3, random_state=101)\n",
        "x_train1_24=sm.add_constant(x_train24)\n",
        "x_test1_24=sm.add_constant(x_test24)"
      ],
      "metadata": {
        "id": "TO8eBHFQyQgD"
      },
      "execution_count": 138,
      "outputs": []
    },
    {
      "cell_type": "markdown",
      "source": [
        "2. Expliquen brevemente cómo elegirían λ por validación cruzada (en Python es alpha). Detallen por qué no usarían el conjunto de prueba (test) para su elección"
      ],
      "metadata": {
        "id": "DSj6aG5QykMe"
      }
    },
    {
      "cell_type": "markdown",
      "source": [
        "Los valores de λ pueden hallarse mediante un Grid Search o un Random Search. En el primero, se asigna un rango de valores, así como un intervalo definido entre cada número y se estima el modelo para cada uno de estos valores, considerando como óptimo el que minimice algun criterio de penalización. Mientras que en el segundo, se brinda solo un intervalo de números y se realiza las estimaciones con cualquier número elegido aleatoriamente, pero que pertenezca a dicho intervalo.\n",
        "\n",
        "El conjunto de prueba se debe reservar únicamente para evaluar el rendimiento final del modelo después de seleccionar todos los hiperparámetros, incluido λ. Si se utilizara el conjunto de prueba para elegir λ, estaríamos introduciendo sesgo en el proceso de selección de parámetros, ya que el modelo estaría “viendo” los datos de prueba durante el ajuste de hiperparámetros. Esto haría que el desempeño del modelo en el conjunto de prueba no reflejara realmente su capacidad de generalización a datos nuevos, pues el modelo ya habría sido ajustado indirectamente para tener un buen rendimiento en esos datos."
      ],
      "metadata": {
        "id": "fC4hQS3pzcYA"
      }
    },
    {
      "cell_type": "markdown",
      "source": [
        "3.\tEn validación cruzada, ¿cuáles son las implicancias de usar un k muy pequeño o uno muy grande? Cuando k = n (con n el número de muestras), ¿cuántas veces se estima el modelo?"
      ],
      "metadata": {
        "id": "He92SK5t6mW4"
      }
    },
    {
      "cell_type": "markdown",
      "source": [
        "El valor de K (subcobjuntos de muestreo) es importante porque un valor reducido puede generar un mayor riesgo de sobreajuste, ya que puede ajustarse a las particularidades de los datos de entrenamiento. Sin embargo, esto tiene asociado un menor costo computacional. En contraste, elegir un valor elevado de K, disminuye las probabilidades de sobreajutes, pero usa de forma intensiva recursos computacionales.\n",
        "\n",
        "En el extremo, podría considerarse K=N, es decir, que se realicen tantos subconjuntos como cantidad de datos con los que se cuenta. De esta forma, se estima el modelo N veces con N-1 datos asegurando que al menos un dato haya sido considerado, alguna vez, como parte del conjunto de prueba o lo que es lo mismo que, alguna vez, un dato no haya formado parte del conjunto de prueba."
      ],
      "metadata": {
        "id": "jYSSHaI86nUD"
      }
    },
    {
      "cell_type": "markdown",
      "source": [
        "4. \tPara regresión logística, implementen la penalidad, L1 como la de LASSO y L2 como la de Ridge con λ=1 (como en la Tutorial 10), usando la opción penalty y reporten la matriz de confusión, la curva ROC, los valores de AUC y de Accuracy para cada año.  ¿Cómo cambiaron los resultados con respecto al TP3? ¿La performance de regresión logística con regularización es mejor o peor?"
      ],
      "metadata": {
        "id": "iVHdxa2y_jDk"
      }
    },
    {
      "cell_type": "markdown",
      "source": [
        "Para 2004"
      ],
      "metadata": {
        "id": "JHdj2oS0DFyc"
      }
    },
    {
      "cell_type": "markdown",
      "source": [
        "Con penalty=l1"
      ],
      "metadata": {
        "id": "sukB0nQPFrOI"
      }
    },
    {
      "cell_type": "code",
      "source": [
        "# Regresión logística\n",
        "log_reg_l1 = LogisticRegression(penalty='l1', solver='liblinear').fit(x_train1_04, y_train04)\n",
        "y_test_pred_score = log_reg_l1.predict_proba(x_test1_04)[:,1]\n",
        "y_test_pred = log_reg_l1.predict(x_test1_04)"
      ],
      "metadata": {
        "id": "gQH_X75nAWEq"
      },
      "execution_count": 139,
      "outputs": []
    },
    {
      "cell_type": "code",
      "source": [
        "#Matrix de confusión\n",
        "matriz_confusion = confusion_matrix(y_test04, y_test_pred)\n",
        "print('Confusion Matrix:')\n",
        "print(matriz_confusion)"
      ],
      "metadata": {
        "colab": {
          "base_uri": "https://localhost:8080/"
        },
        "id": "pMhwrt2YE4bP",
        "outputId": "7ac84bec-c179-4c1f-8cb9-974603195513"
      },
      "execution_count": 140,
      "outputs": [
        {
          "output_type": "stream",
          "name": "stdout",
          "text": [
            "Confusion Matrix:\n",
            "[[893   7]\n",
            " [159  11]]\n"
          ]
        }
      ]
    },
    {
      "cell_type": "code",
      "source": [
        "#AUC valor\n",
        "auc = roc_auc_score(y_test04, y_test_pred)\n",
        "print('AUC: %.2f' % auc)"
      ],
      "metadata": {
        "colab": {
          "base_uri": "https://localhost:8080/"
        },
        "id": "EHDgwLXHFTH5",
        "outputId": "080605f7-33fb-45ac-bc99-ae4bbbfac3e7"
      },
      "execution_count": 141,
      "outputs": [
        {
          "output_type": "stream",
          "name": "stdout",
          "text": [
            "AUC: 0.53\n"
          ]
        }
      ]
    },
    {
      "cell_type": "code",
      "source": [
        "# Curva ROC\n",
        "fpr, tpr, thresholds = roc_curve(y_test04, y_test_pred)\n",
        "display = RocCurveDisplay(fpr=fpr, tpr=tpr, roc_auc=auc, estimator_name='Reg_log')\n",
        "display.plot()\n",
        "plt.plot([0, 1], [0, 1], color='red', linestyle='--')\n",
        "plt.show()"
      ],
      "metadata": {
        "colab": {
          "base_uri": "https://localhost:8080/",
          "height": 451
        },
        "id": "4sAp9aNQFVfw",
        "outputId": "623215bb-3377-4e1a-d496-b60edc383205"
      },
      "execution_count": 142,
      "outputs": [
        {
          "output_type": "display_data",
          "data": {
            "text/plain": [
              "<Figure size 640x480 with 1 Axes>"
            ],
            "image/png": "[encoded data removed]"
          },
          "metadata": {}
        }
      ]
    },
    {
      "cell_type": "code",
      "source": [
        "#Accuracy\n",
        "accuracy = accuracy_score(y_test04, y_test_pred)\n",
        "print(\"La accuracy del modelo es: %.3f\" %accuracy)"
      ],
      "metadata": {
        "colab": {
          "base_uri": "https://localhost:8080/"
        },
        "id": "Ujkaz1O3FiQL",
        "outputId": "f563cc1a-d9aa-4809-ad87-79c4355a0f79"
      },
      "execution_count": 143,
      "outputs": [
        {
          "output_type": "stream",
          "name": "stdout",
          "text": [
            "La accuracy del modelo es: 0.845\n"
          ]
        }
      ]
    },
    {
      "cell_type": "markdown",
      "source": [
        "Con penalty=l2"
      ],
      "metadata": {
        "id": "6Q8nYCMJFvOj"
      }
    },
    {
      "cell_type": "code",
      "source": [
        "# Regresión logística\n",
        "log_reg_l2 = LogisticRegression(penalty='l2', solver='lbfgs', max_iter=10000, C=1).fit(x_train1_04, y_train04)\n",
        "y_test_pred_score = log_reg_l2.predict_proba(x_test1_04)[:,1]\n",
        "y_test_pred = log_reg_l2.predict(x_test1_04)"
      ],
      "metadata": {
        "id": "s-H0DeVOF0n4"
      },
      "execution_count": 144,
      "outputs": []
    },
    {
      "cell_type": "code",
      "source": [
        "#Matrix de confusión\n",
        "matriz_confusion = confusion_matrix(y_test04, y_test_pred)\n",
        "print('Confusion Matrix:')\n",
        "print(matriz_confusion)"
      ],
      "metadata": {
        "colab": {
          "base_uri": "https://localhost:8080/"
        },
        "id": "DxZDVIxtIqsQ",
        "outputId": "a77cb9d2-be7d-429b-e711-3bcede3afc58"
      },
      "execution_count": 145,
      "outputs": [
        {
          "output_type": "stream",
          "name": "stdout",
          "text": [
            "Confusion Matrix:\n",
            "[[893   7]\n",
            " [158  12]]\n"
          ]
        }
      ]
    },
    {
      "cell_type": "code",
      "source": [
        "#AUC valor\n",
        "auc = roc_auc_score(y_test04, y_test_pred)\n",
        "print('AUC: %.2f' % auc)"
      ],
      "metadata": {
        "colab": {
          "base_uri": "https://localhost:8080/"
        },
        "id": "5mJalUZ0JN8g",
        "outputId": "ceb63ba9-277c-41ec-c083-806aef27bd40"
      },
      "execution_count": 146,
      "outputs": [
        {
          "output_type": "stream",
          "name": "stdout",
          "text": [
            "AUC: 0.53\n"
          ]
        }
      ]
    },
    {
      "cell_type": "code",
      "source": [
        "# Curva ROC\n",
        "fpr, tpr, thresholds = roc_curve(y_test04, y_test_pred)\n",
        "display = RocCurveDisplay(fpr=fpr, tpr=tpr, roc_auc=auc, estimator_name='Reg_log')\n",
        "display.plot()\n",
        "plt.plot([0, 1], [0, 1], color='red', linestyle='--')\n",
        "plt.show()"
      ],
      "metadata": {
        "colab": {
          "base_uri": "https://localhost:8080/",
          "height": 451
        },
        "id": "wV0h4_tYJSDu",
        "outputId": "ab9a439c-0d17-490c-d7f4-18777e34dd1a"
      },
      "execution_count": 147,
      "outputs": [
        {
          "output_type": "display_data",
          "data": {
            "text/plain": [
              "<Figure size 640x480 with 1 Axes>"
            ],
            "image/png": "[encoded data removed]"
          },
          "metadata": {}
        }
      ]
    },
    {
      "cell_type": "code",
      "source": [
        "#Accuracy\n",
        "accuracy = accuracy_score(y_test04, y_test_pred)\n",
        "print(\"La accuracy del modelo es: %.3f\" %accuracy)"
      ],
      "metadata": {
        "colab": {
          "base_uri": "https://localhost:8080/"
        },
        "id": "9Wm38KYNJU77",
        "outputId": "2d07fe1f-a68e-4fe8-91ff-bea14df1be2f"
      },
      "execution_count": 148,
      "outputs": [
        {
          "output_type": "stream",
          "name": "stdout",
          "text": [
            "La accuracy del modelo es: 0.846\n"
          ]
        }
      ]
    },
    {
      "cell_type": "markdown",
      "source": [
        "Para 2024"
      ],
      "metadata": {
        "id": "6H87K7uwJWkb"
      }
    },
    {
      "cell_type": "markdown",
      "source": [
        "Con penalty=l1"
      ],
      "metadata": {
        "id": "tHPApsuvJZ8q"
      }
    },
    {
      "cell_type": "code",
      "source": [
        "# Regresión logística\n",
        "log_reg_l1 = LogisticRegression(penalty='l1', solver='liblinear').fit(x_train1_24, y_train24)\n",
        "y_test_pred_score = log_reg_l1.predict_proba(x_test1_24)[:,1]\n",
        "y_test_pred = log_reg_l1.predict(x_test1_24)"
      ],
      "metadata": {
        "id": "6KskKk0iJYEn"
      },
      "execution_count": 83,
      "outputs": []
    },
    {
      "cell_type": "code",
      "source": [
        "#Matrix de confusión\n",
        "matriz_confusion = confusion_matrix(y_test24, y_test_pred)\n",
        "print('Confusion Matrix:')\n",
        "print(matriz_confusion)"
      ],
      "metadata": {
        "colab": {
          "base_uri": "https://localhost:8080/"
        },
        "id": "FajzT0QSJlwD",
        "outputId": "1599aec8-7ab6-40f1-c6bd-2849fb6547de"
      },
      "execution_count": 84,
      "outputs": [
        {
          "output_type": "stream",
          "name": "stdout",
          "text": [
            "Confusion Matrix:\n",
            "[[960   2]\n",
            " [ 94   1]]\n"
          ]
        }
      ]
    },
    {
      "cell_type": "code",
      "source": [
        "#AUC valor\n",
        "auc = roc_auc_score(y_test24, y_test_pred)\n",
        "print('AUC: %.2f' % auc)"
      ],
      "metadata": {
        "colab": {
          "base_uri": "https://localhost:8080/"
        },
        "id": "Z37nNY0yKfzu",
        "outputId": "de1442ab-a812-48a6-cb42-3b97fcf09118"
      },
      "execution_count": 85,
      "outputs": [
        {
          "output_type": "stream",
          "name": "stdout",
          "text": [
            "AUC: 0.50\n"
          ]
        }
      ]
    },
    {
      "cell_type": "code",
      "source": [
        "# Curva ROC\n",
        "fpr, tpr, thresholds = roc_curve(y_test24, y_test_pred)\n",
        "display = RocCurveDisplay(fpr=fpr, tpr=tpr, roc_auc=auc, estimator_name='Reg_log')\n",
        "display.plot()\n",
        "plt.plot([0, 1], [0, 1], color='red', linestyle='--')\n",
        "plt.show()"
      ],
      "metadata": {
        "colab": {
          "base_uri": "https://localhost:8080/",
          "height": 451
        },
        "id": "eXYPy5tWKnJi",
        "outputId": "62f2d3ca-317f-4ada-cb71-19885d1e77d3"
      },
      "execution_count": 86,
      "outputs": [
        {
          "output_type": "display_data",
          "data": {
            "text/plain": [
              "<Figure size 640x480 with 1 Axes>"
            ],
            "image/png": "[encoded data removed]"
          },
          "metadata": {}
        }
      ]
    },
    {
      "cell_type": "code",
      "source": [
        "#Accuracy\n",
        "accuracy = accuracy_score(y_test24, y_test_pred)\n",
        "print(\"La accuracy del modelo es: %.3f\" %accuracy)"
      ],
      "metadata": {
        "colab": {
          "base_uri": "https://localhost:8080/"
        },
        "id": "l1zLcmhZKs8M",
        "outputId": "9cdd5e70-2b73-4a46-8716-b8f1189b0c2a"
      },
      "execution_count": 87,
      "outputs": [
        {
          "output_type": "stream",
          "name": "stdout",
          "text": [
            "La accuracy del modelo es: 0.909\n"
          ]
        }
      ]
    },
    {
      "cell_type": "markdown",
      "source": [
        "Con penalty=l2"
      ],
      "metadata": {
        "id": "VrRYX8ZMKvbB"
      }
    },
    {
      "cell_type": "code",
      "source": [
        "# Regresión logística\n",
        "log_reg_l2 = LogisticRegression(penalty='l2', solver='lbfgs', max_iter=10000, C=1).fit(x_train1_24, y_train24)\n",
        "y_test_pred_score = log_reg_l2.predict_proba(x_test1_24)[:,1]\n",
        "y_test_pred = log_reg_l2.predict(x_test1_24)"
      ],
      "metadata": {
        "id": "4W0q3VDbKxJ1"
      },
      "execution_count": 88,
      "outputs": []
    },
    {
      "cell_type": "code",
      "source": [
        "#Matrix de confusión\n",
        "matriz_confusion = confusion_matrix(y_test24, y_test_pred)\n",
        "print('Confusion Matrix:')\n",
        "print(matriz_confusion)"
      ],
      "metadata": {
        "colab": {
          "base_uri": "https://localhost:8080/"
        },
        "id": "025IxI7RK5hZ",
        "outputId": "96f140f6-c61d-4b9f-88ed-78827c11a0bb"
      },
      "execution_count": 89,
      "outputs": [
        {
          "output_type": "stream",
          "name": "stdout",
          "text": [
            "Confusion Matrix:\n",
            "[[959   3]\n",
            " [ 94   1]]\n"
          ]
        }
      ]
    },
    {
      "cell_type": "code",
      "source": [
        "#AUC valor\n",
        "auc = roc_auc_score(y_test24, y_test_pred)\n",
        "print('AUC: %.2f' % auc)"
      ],
      "metadata": {
        "colab": {
          "base_uri": "https://localhost:8080/"
        },
        "id": "QWchdb65LEtn",
        "outputId": "a72483b0-f10d-4ed7-b5ad-89d2474dfee3"
      },
      "execution_count": 90,
      "outputs": [
        {
          "output_type": "stream",
          "name": "stdout",
          "text": [
            "AUC: 0.50\n"
          ]
        }
      ]
    },
    {
      "cell_type": "code",
      "source": [
        "# Curva ROC\n",
        "fpr, tpr, thresholds = roc_curve(y_test24, y_test_pred)\n",
        "display = RocCurveDisplay(fpr=fpr, tpr=tpr, roc_auc=auc, estimator_name='Reg_log')\n",
        "display.plot()\n",
        "plt.plot([0, 1], [0, 1], color='red', linestyle='--')\n",
        "plt.show()"
      ],
      "metadata": {
        "colab": {
          "base_uri": "https://localhost:8080/",
          "height": 451
        },
        "id": "5s7If91tLHWo",
        "outputId": "26acfef1-d645-4942-dd34-f620baa99502"
      },
      "execution_count": 91,
      "outputs": [
        {
          "output_type": "display_data",
          "data": {
            "text/plain": [
              "<Figure size 640x480 with 1 Axes>"
            ],
            "image/png": "[encoded data removed]"
          },
          "metadata": {}
        }
      ]
    },
    {
      "cell_type": "code",
      "source": [
        "#Accuracy\n",
        "accuracy = accuracy_score(y_test24, y_test_pred)\n",
        "print(\"La accuracy del modelo es: %.3f\" %accuracy)"
      ],
      "metadata": {
        "colab": {
          "base_uri": "https://localhost:8080/"
        },
        "id": "X7eS12QELK0f",
        "outputId": "bc8b2084-a54b-45e3-f234-2860e0a0674f"
      },
      "execution_count": 92,
      "outputs": [
        {
          "output_type": "stream",
          "name": "stdout",
          "text": [
            "La accuracy del modelo es: 0.908\n"
          ]
        }
      ]
    },
    {
      "cell_type": "markdown",
      "source": [
        "Conclusión: Tanto para el año 2004 como para el 2024, en términos de precisión, los resultados se mantienen iguales. Esto se obtiene tanto al aplicar ambas formas de penalidad. Para todos los casos analizados, parece existir un sobreajuste del modelo debido a que el accuracy del modelo es igual a 1."
      ],
      "metadata": {
        "id": "ijDmXx4qLm-T"
      }
    },
    {
      "cell_type": "markdown",
      "source": [
        "5. Realicen un barrido en λ = 10^n con n ∈ {−5, −4, −3 ..., +4, +5} y utilicen 10-fold CV para elegir el λ óptimo en regresión logística con Ridge y con LASSO. ¿Qué λ seleccionó en cada caso? Usando la librería de seaborn, generen box plot mostrando la distribución del error de predicción para cada λ. Cada box debe corresponder a un valor de λ y contener como observaciones el error medio de validación (MSE) para cada partición. Además, para la regularización LASSO, generen un line plot del promedio de la proporción de variables ignoradas por el modelo en función de λ (como vieron en el tutorial 10), es decir la proporción de variables para las cuales el coeficiente asociado es cero"
      ],
      "metadata": {
        "id": "OijC32Q2LTCt"
      }
    },
    {
      "cell_type": "markdown",
      "source": [
        "Para 2004"
      ],
      "metadata": {
        "id": "TrFN_9P1RRgV"
      }
    },
    {
      "cell_type": "markdown",
      "source": [
        "Con penalty=l1"
      ],
      "metadata": {
        "id": "NZ4A97DrRTIj"
      }
    },
    {
      "cell_type": "code",
      "source": [
        "# Definir el rango de valores para C (λ = 1 / C)\n",
        "param_grid = {'logisticregression__C': [10**n for n in range(-5, 6)]}  # Valores de C desde 10^-5 a 10^5\n",
        "\n",
        "# Crear el pipeline con StandardScaler y LogisticRegression\n",
        "pipeline = make_pipeline(StandardScaler(), LogisticRegression(penalty='l1', solver='liblinear'))\n",
        "\n",
        "# Configurar la validación cruzada con K=10\n",
        "cv = StratifiedKFold(n_splits=10)\n",
        "\n",
        "# Crear GridSearchCV para búsqueda de hiperparámetros\n",
        "grid_search = GridSearchCV(estimator=pipeline, param_grid=param_grid, cv=cv, n_jobs=-1, scoring='neg_mean_squared_error')\n",
        "\n",
        "# Ajustar el modelo con la validación cruzada y búsqueda de mejores hiperparámetros\n",
        "grid_search.fit(x_train1_04, y_train04)\n",
        "\n",
        "# Ver los mejores parámetros encontrados\n",
        "print(\"Mejor valor de C (lambda):\", grid_search.best_params_['logisticregression__C'])\n",
        "print(\"Mejor valor de lambda es:\", 1/grid_search.best_params_['logisticregression__C'])\n",
        "print(\"Mejor score (neg_mean_squared_error):\", grid_search.best_score_)\n",
        "# Obtener el mejor modelo y evaluarlo en el conjunto de test\n",
        "best_model = grid_search.best_estimator_\n",
        "\n",
        "# Predecir las probabilidades y las clases en el conjunto de prueba\n",
        "y_test_pred_score = best_model.predict_proba(x_test1_04)[:, 1]\n",
        "y_test_pred = best_model.predict(x_test1_04)"
      ],
      "metadata": {
        "colab": {
          "base_uri": "https://localhost:8080/"
        },
        "id": "NsSMTKUDRU4D",
        "outputId": "57524c91-edea-4965-afde-5e7cdbe73baa"
      },
      "execution_count": 118,
      "outputs": [
        {
          "output_type": "stream",
          "name": "stdout",
          "text": [
            "Mejor valor de C (lambda): 10\n",
            "Mejor valor de lambda es: 0.1\n",
            "Mejor score (neg_mean_squared_error): -0.13701686746987957\n"
          ]
        }
      ]
    },
    {
      "cell_type": "code",
      "source": [
        "# Imprimir los resultados\n",
        "print(\"Probabilidades predichas en el conjunto de prueba:\", y_test_pred_score)\n",
        "print(\"Clases predichas en el conjunto de prueba:\", y_test_pred)"
      ],
      "metadata": {
        "colab": {
          "base_uri": "https://localhost:8080/"
        },
        "id": "aG7cmF5TRhLA",
        "outputId": "941de8e9-f6bb-4866-d433-5d51746ebb23"
      },
      "execution_count": 119,
      "outputs": [
        {
          "output_type": "stream",
          "name": "stdout",
          "text": [
            "Probabilidades predichas en el conjunto de prueba: [0.14742369 0.23559581 0.11904566 ... 0.01931521 0.0353375  0.19220871]\n",
            "Clases predichas en el conjunto de prueba: [0 0 0 ... 0 0 0]\n"
          ]
        }
      ]
    },
    {
      "cell_type": "code",
      "source": [
        "coeficientes=best_model.named_steps['logisticregression'].coef_\n",
        "nombres_caracteristicas = x_train1_24.columns\n",
        "df_coeficientes = pd.DataFrame(coeficientes, columns=nombres_caracteristicas)\n",
        "df_coeficientes"
      ],
      "metadata": {
        "colab": {
          "base_uri": "https://localhost:8080/",
          "height": 89
        },
        "id": "hYsAUrtX9YCb",
        "outputId": "edf2419e-249c-427d-f5a6-141800e466ed"
      },
      "execution_count": 121,
      "outputs": [
        {
          "output_type": "execute_result",
          "data": {
            "text/plain": [
              "   const      CH04      CH06      CH07     CH08  NIVEL_ED      IPCF  \\\n",
              "0    0.0  0.242776 -0.168137  0.464484  0.16401  0.166877 -1.419925   \n",
              "\n",
              "   MIEMBROS_MAYORES_65  AYUDA_GOBIERNO1  MIEMBROS_MENORES_6  \n",
              "0             -0.01919         0.130575           -0.172012  "
            ],
            "text/html": [
              "\n",
              "  <div id=\"df-7a2a7119-2519-4691-b0f0-624f20960e27\" class=\"colab-df-container\">\n",
              "    <div>\n",
              "<style scoped>\n",
              "    .dataframe tbody tr th:only-of-type {\n",
              "        vertical-align: middle;\n",
              "    }\n",
              "\n",
              "    .dataframe tbody tr th {\n",
              "        vertical-align: top;\n",
              "    }\n",
              "\n",
              "    .dataframe thead th {\n",
              "        text-align: right;\n",
              "    }\n",
              "</style>\n",
              "<table border=\"1\" class=\"dataframe\">\n",
              "  <thead>\n",
              "    <tr style=\"text-align: right;\">\n",
              "      <th></th>\n",
              "      <th>const</th>\n",
              "      <th>CH04</th>\n",
              "      <th>CH06</th>\n",
              "      <th>CH07</th>\n",
              "      <th>CH08</th>\n",
              "      <th>NIVEL_ED</th>\n",
              "      <th>IPCF</th>\n",
              "      <th>MIEMBROS_MAYORES_65</th>\n",
              "      <th>AYUDA_GOBIERNO1</th>\n",
              "      <th>MIEMBROS_MENORES_6</th>\n",
              "    </tr>\n",
              "  </thead>\n",
              "  <tbody>\n",
              "    <tr>\n",
              "      <th>0</th>\n",
              "      <td>0.0</td>\n",
              "      <td>0.242776</td>\n",
              "      <td>-0.168137</td>\n",
              "      <td>0.464484</td>\n",
              "      <td>0.16401</td>\n",
              "      <td>0.166877</td>\n",
              "      <td>-1.419925</td>\n",
              "      <td>-0.01919</td>\n",
              "      <td>0.130575</td>\n",
              "      <td>-0.172012</td>\n",
              "    </tr>\n",
              "  </tbody>\n",
              "</table>\n",
              "</div>\n",
              "    <div class=\"colab-df-buttons\">\n",
              "\n",
              "  <div class=\"colab-df-container\">\n",
              "    <button class=\"colab-df-convert\" onclick=\"convertToInteractive('df-7a2a7119-2519-4691-b0f0-624f20960e27')\"\n",
              "            title=\"Convert this dataframe to an interactive table.\"\n",
              "            style=\"display:none;\">\n",
              "\n",
              "  <svg xmlns=\"http://www.w3.org/2000/svg\" height=\"24px\" viewBox=\"0 -960 960 960\">\n",
              "    <path d=\"M120-120v-720h720v720H120Zm60-500h600v-160H180v160Zm220 220h160v-160H400v160Zm0 220h160v-160H400v160ZM180-400h160v-160H180v160Zm440 0h160v-160H620v160ZM180-180h160v-160H180v160Zm440 0h160v-160H620v160Z\"/>\n",
              "  </svg>\n",
              "    </button>\n",
              "\n",
              "  <style>\n",
              "    .colab-df-container {\n",
              "      display:flex;\n",
              "      gap: 12px;\n",
              "    }\n",
              "\n",
              "    .colab-df-convert {\n",
              "      background-color: #E8F0FE;\n",
              "      border: none;\n",
              "      border-radius: 50%;\n",
              "      cursor: pointer;\n",
              "      display: none;\n",
              "      fill: #1967D2;\n",
              "      height: 32px;\n",
              "      padding: 0 0 0 0;\n",
              "      width: 32px;\n",
              "    }\n",
              "\n",
              "    .colab-df-convert:hover {\n",
              "      background-color: #E2EBFA;\n",
              "      box-shadow: 0px 1px 2px rgba(60, 64, 67, 0.3), 0px 1px 3px 1px rgba(60, 64, 67, 0.15);\n",
              "      fill: #174EA6;\n",
              "    }\n",
              "\n",
              "    .colab-df-buttons div {\n",
              "      margin-bottom: 4px;\n",
              "    }\n",
              "\n",
              "    [theme=dark] .colab-df-convert {\n",
              "      background-color: #3B4455;\n",
              "      fill: #D2E3FC;\n",
              "    }\n",
              "\n",
              "    [theme=dark] .colab-df-convert:hover {\n",
              "      background-color: #434B5C;\n",
              "      box-shadow: 0px 1px 3px 1px rgba(0, 0, 0, 0.15);\n",
              "      filter: drop-shadow(0px 1px 2px rgba(0, 0, 0, 0.3));\n",
              "      fill: #FFFFFF;\n",
              "    }\n",
              "  </style>\n",
              "\n",
              "    <script>\n",
              "      const buttonEl =\n",
              "        document.querySelector('#df-7a2a7119-2519-4691-b0f0-624f20960e27 button.colab-df-convert');\n",
              "      buttonEl.style.display =\n",
              "        google.colab.kernel.accessAllowed ? 'block' : 'none';\n",
              "\n",
              "      async function convertToInteractive(key) {\n",
              "        const element = document.querySelector('#df-7a2a7119-2519-4691-b0f0-624f20960e27');\n",
              "        const dataTable =\n",
              "          await google.colab.kernel.invokeFunction('convertToInteractive',\n",
              "                                                    [key], {});\n",
              "        if (!dataTable) return;\n",
              "\n",
              "        const docLinkHtml = 'Like what you see? Visit the ' +\n",
              "          '<a target=\"_blank\" href=https://colab.research.google.com/notebooks/data_table.ipynb>data table notebook</a>'\n",
              "          + ' to learn more about interactive tables.';\n",
              "        element.innerHTML = '';\n",
              "        dataTable['output_type'] = 'display_data';\n",
              "        await google.colab.output.renderOutput(dataTable, element);\n",
              "        const docLink = document.createElement('div');\n",
              "        docLink.innerHTML = docLinkHtml;\n",
              "        element.appendChild(docLink);\n",
              "      }\n",
              "    </script>\n",
              "  </div>\n",
              "\n",
              "\n",
              "  <div id=\"id_2ff8e6d5-812a-4c2d-b3ae-4fb8bc792a9e\">\n",
              "    <style>\n",
              "      .colab-df-generate {\n",
              "        background-color: #E8F0FE;\n",
              "        border: none;\n",
              "        border-radius: 50%;\n",
              "        cursor: pointer;\n",
              "        display: none;\n",
              "        fill: #1967D2;\n",
              "        height: 32px;\n",
              "        padding: 0 0 0 0;\n",
              "        width: 32px;\n",
              "      }\n",
              "\n",
              "      .colab-df-generate:hover {\n",
              "        background-color: #E2EBFA;\n",
              "        box-shadow: 0px 1px 2px rgba(60, 64, 67, 0.3), 0px 1px 3px 1px rgba(60, 64, 67, 0.15);\n",
              "        fill: #174EA6;\n",
              "      }\n",
              "\n",
              "      [theme=dark] .colab-df-generate {\n",
              "        background-color: #3B4455;\n",
              "        fill: #D2E3FC;\n",
              "      }\n",
              "\n",
              "      [theme=dark] .colab-df-generate:hover {\n",
              "        background-color: #434B5C;\n",
              "        box-shadow: 0px 1px 3px 1px rgba(0, 0, 0, 0.15);\n",
              "        filter: drop-shadow(0px 1px 2px rgba(0, 0, 0, 0.3));\n",
              "        fill: #FFFFFF;\n",
              "      }\n",
              "    </style>\n",
              "    <button class=\"colab-df-generate\" onclick=\"generateWithVariable('df_coeficientes')\"\n",
              "            title=\"Generate code using this dataframe.\"\n",
              "            style=\"display:none;\">\n",
              "\n",
              "  <svg xmlns=\"http://www.w3.org/2000/svg\" height=\"24px\"viewBox=\"0 0 24 24\"\n",
              "       width=\"24px\">\n",
              "    <path d=\"M7,19H8.4L18.45,9,17,7.55,7,17.6ZM5,21V16.75L18.45,3.32a2,2,0,0,1,2.83,0l1.4,1.43a1.91,1.91,0,0,1,.58,1.4,1.91,1.91,0,0,1-.58,1.4L9.25,21ZM18.45,9,17,7.55Zm-12,3A5.31,5.31,0,0,0,4.9,8.1,5.31,5.31,0,0,0,1,6.5,5.31,5.31,0,0,0,4.9,4.9,5.31,5.31,0,0,0,6.5,1,5.31,5.31,0,0,0,8.1,4.9,5.31,5.31,0,0,0,12,6.5,5.46,5.46,0,0,0,6.5,12Z\"/>\n",
              "  </svg>\n",
              "    </button>\n",
              "    <script>\n",
              "      (() => {\n",
              "      const buttonEl =\n",
              "        document.querySelector('#id_2ff8e6d5-812a-4c2d-b3ae-4fb8bc792a9e button.colab-df-generate');\n",
              "      buttonEl.style.display =\n",
              "        google.colab.kernel.accessAllowed ? 'block' : 'none';\n",
              "\n",
              "      buttonEl.onclick = () => {\n",
              "        google.colab.notebook.generateWithVariable('df_coeficientes');\n",
              "      }\n",
              "      })();\n",
              "    </script>\n",
              "  </div>\n",
              "\n",
              "    </div>\n",
              "  </div>\n"
            ],
            "application/vnd.google.colaboratory.intrinsic+json": {
              "type": "dataframe",
              "variable_name": "df_coeficientes",
              "summary": "{\n  \"name\": \"df_coeficientes\",\n  \"rows\": 1,\n  \"fields\": [\n    {\n      \"column\": \"const\",\n      \"properties\": {\n        \"dtype\": \"number\",\n        \"std\": null,\n        \"min\": 0.0,\n        \"max\": 0.0,\n        \"num_unique_values\": 1,\n        \"samples\": [\n          0.0\n        ],\n        \"semantic_type\": \"\",\n        \"description\": \"\"\n      }\n    },\n    {\n      \"column\": \"CH04\",\n      \"properties\": {\n        \"dtype\": \"number\",\n        \"std\": null,\n        \"min\": 0.24277642477991562,\n        \"max\": 0.24277642477991562,\n        \"num_unique_values\": 1,\n        \"samples\": [\n          0.24277642477991562\n        ],\n        \"semantic_type\": \"\",\n        \"description\": \"\"\n      }\n    },\n    {\n      \"column\": \"CH06\",\n      \"properties\": {\n        \"dtype\": \"number\",\n        \"std\": null,\n        \"min\": -0.1681371796175671,\n        \"max\": -0.1681371796175671,\n        \"num_unique_values\": 1,\n        \"samples\": [\n          -0.1681371796175671\n        ],\n        \"semantic_type\": \"\",\n        \"description\": \"\"\n      }\n    },\n    {\n      \"column\": \"CH07\",\n      \"properties\": {\n        \"dtype\": \"number\",\n        \"std\": null,\n        \"min\": 0.4644837109554143,\n        \"max\": 0.4644837109554143,\n        \"num_unique_values\": 1,\n        \"samples\": [\n          0.4644837109554143\n        ],\n        \"semantic_type\": \"\",\n        \"description\": \"\"\n      }\n    },\n    {\n      \"column\": \"CH08\",\n      \"properties\": {\n        \"dtype\": \"number\",\n        \"std\": null,\n        \"min\": 0.16401031213624417,\n        \"max\": 0.16401031213624417,\n        \"num_unique_values\": 1,\n        \"samples\": [\n          0.16401031213624417\n        ],\n        \"semantic_type\": \"\",\n        \"description\": \"\"\n      }\n    },\n    {\n      \"column\": \"NIVEL_ED\",\n      \"properties\": {\n        \"dtype\": \"number\",\n        \"std\": null,\n        \"min\": 0.16687738914940187,\n        \"max\": 0.16687738914940187,\n        \"num_unique_values\": 1,\n        \"samples\": [\n          0.16687738914940187\n        ],\n        \"semantic_type\": \"\",\n        \"description\": \"\"\n      }\n    },\n    {\n      \"column\": \"IPCF\",\n      \"properties\": {\n        \"dtype\": \"number\",\n        \"std\": null,\n        \"min\": -1.4199248350172877,\n        \"max\": -1.4199248350172877,\n        \"num_unique_values\": 1,\n        \"samples\": [\n          -1.4199248350172877\n        ],\n        \"semantic_type\": \"\",\n        \"description\": \"\"\n      }\n    },\n    {\n      \"column\": \"MIEMBROS_MAYORES_65\",\n      \"properties\": {\n        \"dtype\": \"number\",\n        \"std\": null,\n        \"min\": -0.019189817040666673,\n        \"max\": -0.019189817040666673,\n        \"num_unique_values\": 1,\n        \"samples\": [\n          -0.019189817040666673\n        ],\n        \"semantic_type\": \"\",\n        \"description\": \"\"\n      }\n    },\n    {\n      \"column\": \"AYUDA_GOBIERNO1\",\n      \"properties\": {\n        \"dtype\": \"number\",\n        \"std\": null,\n        \"min\": 0.1305746443580118,\n        \"max\": 0.1305746443580118,\n        \"num_unique_values\": 1,\n        \"samples\": [\n          0.1305746443580118\n        ],\n        \"semantic_type\": \"\",\n        \"description\": \"\"\n      }\n    },\n    {\n      \"column\": \"MIEMBROS_MENORES_6\",\n      \"properties\": {\n        \"dtype\": \"number\",\n        \"std\": null,\n        \"min\": -0.17201225735076886,\n        \"max\": -0.17201225735076886,\n        \"num_unique_values\": 1,\n        \"samples\": [\n          -0.17201225735076886\n        ],\n        \"semantic_type\": \"\",\n        \"description\": \"\"\n      }\n    }\n  ]\n}"
            }
          },
          "metadata": {},
          "execution_count": 121
        }
      ]
    },
    {
      "cell_type": "code",
      "source": [
        "# Extraer los resultados\n",
        "results = grid_search.cv_results_\n",
        "\n",
        "# Obtener los MSE de cada pliegue para cada valor de C\n",
        "# Para eso, necesitamos acceder a los 'split' específicos\n",
        "mse_values_per_lambda = []\n",
        "\n",
        "for idx, mean_test_score in enumerate(results['mean_test_score']):\n",
        "    # Para cada valor de C (lambda), obtener los MSE de cada pliegue\n",
        "    mse_per_split = results['split0_test_score'][idx]\n",
        "    for i in range(1, 10):  # Hay 10 pliegues, puedes ajustar el rango si es necesario\n",
        "        mse_per_split = np.append(mse_per_split, results[f'split{i}_test_score'][idx])\n",
        "\n",
        "    mse_values_per_lambda.append(mse_per_split)\n",
        "\n",
        "# Crear un DataFrame con todos los valores de MSE para cada lambda\n",
        "lambda_values = [10**n for n in range(-5, 6)]\n",
        "mse_df = pd.DataFrame(mse_values_per_lambda, columns=[f'Pliegue {i+1}' for i in range(10)])\n",
        "mse_df['Lambda'] = lambda_values\n",
        "\n",
        "# Convertir los MSE negativos a positivos multiplicando por -1\n",
        "mse_df.iloc[:, :-1] = -mse_df.iloc[:, :-1]\n",
        "\n",
        "# Usar melt para reorganizar el DataFrame de forma correcta\n",
        "mse_melted = mse_df.melt(id_vars='Lambda', var_name='Pliegue', value_name='MSE')\n",
        "\n",
        "# Graficar boxplot\n",
        "plt.figure(figsize=(10, 6))\n",
        "sns.boxplot(x='Lambda', y='MSE', data=mse_melted)\n",
        "plt.title('MSE vs. Lambda (C = 1 / λ) en Regresión Logística con Regularización L1')\n",
        "plt.xlabel('Valor de Lambda (C = 1 / λ)')\n",
        "plt.ylabel('MSE (Error Cuadrático Medio)')\n",
        "plt.xticks(rotation=45)  # Rotar etiquetas del eje x si es necesario\n",
        "plt.show()\n"
      ],
      "metadata": {
        "colab": {
          "base_uri": "https://localhost:8080/",
          "height": 607
        },
        "id": "_sLVlrwbnyyB",
        "outputId": "e5845953-a88f-4ccf-b324-771e1d4d5d44"
      },
      "execution_count": 120,
      "outputs": [
        {
          "output_type": "display_data",
          "data": {
            "text/plain": [
              "<Figure size 1000x600 with 1 Axes>"
            ],
            "image/png": "[encoded data removed]"
          },
          "metadata": {}
        }
      ]
    },
    {
      "cell_type": "markdown",
      "source": [
        "Con penalty=l2"
      ],
      "metadata": {
        "id": "SfgRGj-7SAdu"
      }
    },
    {
      "cell_type": "code",
      "source": [
        "# Definir el rango de valores para C (λ = 1 / C)\n",
        "param_grid = {'logisticregression__C': [10**n for n in range(-5, 6)]}  # Valores de C desde 10^-5 a 10^5\n",
        "\n",
        "# Crear el pipeline con StandardScaler y LogisticRegression\n",
        "pipeline = make_pipeline(StandardScaler(), LogisticRegression(penalty='l2', solver='lbfgs'))\n",
        "\n",
        "# Configurar la validación cruzada con K=10\n",
        "cv = StratifiedKFold(n_splits=10)\n",
        "\n",
        "# Crear GridSearchCV para búsqueda de hiperparámetros\n",
        "grid_search = GridSearchCV(estimator=pipeline, param_grid=param_grid, cv=cv, n_jobs=-1, scoring='neg_mean_squared_error')\n",
        "\n",
        "# Ajustar el modelo con la validación cruzada y búsqueda de mejores hiperparámetros\n",
        "grid_search.fit(x_train1_04, y_train04)\n",
        "\n",
        "# Ver los mejores parámetros encontrados\n",
        "print(\"Mejor valor de C (lambda):\", grid_search.best_params_['logisticregression__C'])\n",
        "print(\"Mejor valor de lambda es:\", 1/grid_search.best_params_['logisticregression__C'])\n",
        "print(\"Mejor score (neg_mean_squared_error):\", grid_search.best_score_)\n",
        "# Obtener el mejor modelo y evaluarlo en el conjunto de test\n",
        "best_model = grid_search.best_estimator_\n",
        "\n",
        "# Predecir las probabilidades y las clases en el conjunto de prueba\n",
        "y_test_pred_score = best_model.predict_proba(x_test1_04)[:, 1]\n",
        "y_test_pred = best_model.predict(x_test1_04)"
      ],
      "metadata": {
        "colab": {
          "base_uri": "https://localhost:8080/"
        },
        "id": "6M5ssTKaRkdg",
        "outputId": "311681a7-05ad-4c37-e06c-a0a711307519"
      },
      "execution_count": 154,
      "outputs": [
        {
          "output_type": "stream",
          "name": "stdout",
          "text": [
            "Mejor valor de C (lambda): 10\n",
            "Mejor valor de lambda es: 0.1\n",
            "Mejor score (neg_mean_squared_error): -0.13701686746987957\n"
          ]
        }
      ]
    },
    {
      "cell_type": "code",
      "source": [
        "# Imprimir los resultados\n",
        "print(\"Probabilidades predichas en el conjunto de prueba:\", y_test_pred_score)\n",
        "print(\"Clases predichas en el conjunto de prueba:\", y_test_pred)"
      ],
      "metadata": {
        "colab": {
          "base_uri": "https://localhost:8080/"
        },
        "id": "Y8At2LMXSQsf",
        "outputId": "11172e16-33c1-4b2b-ccbe-de4657476e36"
      },
      "execution_count": 155,
      "outputs": [
        {
          "output_type": "stream",
          "name": "stdout",
          "text": [
            "Probabilidades predichas en el conjunto de prueba: [0.14718784 0.23609049 0.11882283 ... 0.01927    0.03539952 0.19204232]\n",
            "Clases predichas en el conjunto de prueba: [0 0 0 ... 0 0 0]\n"
          ]
        }
      ]
    },
    {
      "cell_type": "code",
      "source": [
        "# Extraer los resultados\n",
        "results = grid_search.cv_results_\n",
        "\n",
        "# Obtener los MSE de cada pliegue para cada valor de C\n",
        "# Para eso, necesitamos acceder a los 'split' específicos\n",
        "mse_values_per_lambda = []\n",
        "\n",
        "for idx, mean_test_score in enumerate(results['mean_test_score']):\n",
        "    # Para cada valor de C (lambda), obtener los MSE de cada pliegue\n",
        "    mse_per_split = results['split0_test_score'][idx]\n",
        "    for i in range(1, 10):  # Hay 10 pliegues, puedes ajustar el rango si es necesario\n",
        "        mse_per_split = np.append(mse_per_split, results[f'split{i}_test_score'][idx])\n",
        "\n",
        "    mse_values_per_lambda.append(mse_per_split)\n",
        "\n",
        "# Crear un DataFrame con todos los valores de MSE para cada lambda\n",
        "lambda_values = [10**n for n in range(-5, 6)]\n",
        "mse_df = pd.DataFrame(mse_values_per_lambda, columns=[f'Pliegue {i+1}' for i in range(10)])\n",
        "mse_df['Lambda'] = lambda_values\n",
        "\n",
        "# Convertir los MSE negativos a positivos multiplicando por -1\n",
        "mse_df.iloc[:, :-1] = -mse_df.iloc[:, :-1]\n",
        "\n",
        "# Usar melt para reorganizar el DataFrame de forma correcta\n",
        "mse_melted = mse_df.melt(id_vars='Lambda', var_name='Pliegue', value_name='MSE')\n",
        "\n",
        "# Graficar boxplot\n",
        "plt.figure(figsize=(10, 6))\n",
        "sns.boxplot(x='Lambda', y='MSE', data=mse_melted)\n",
        "plt.title('MSE vs. Lambda (C = 1 / λ) en Regresión Logística con Regularización L2')\n",
        "plt.xlabel('Valor de Lambda (C = 1 / λ)')\n",
        "plt.ylabel('MSE (Error Cuadrático Medio)')\n",
        "plt.xticks(rotation=45)  # Rotar etiquetas del eje x si es necesario\n",
        "plt.show()"
      ],
      "metadata": {
        "colab": {
          "base_uri": "https://localhost:8080/",
          "height": 607
        },
        "id": "elrPL_Ezn8__",
        "outputId": "fc749a90-9371-46fd-e5bf-36345e339b36"
      },
      "execution_count": 156,
      "outputs": [
        {
          "output_type": "display_data",
          "data": {
            "text/plain": [
              "<Figure size 1000x600 with 1 Axes>"
            ],
            "image/png": "[encoded data removed]"
          },
          "metadata": {}
        }
      ]
    },
    {
      "cell_type": "code",
      "source": [
        "#Coeficientes asociadas a cada variable\n",
        "coeficientes=best_model.named_steps['logisticregression'].coef_\n",
        "nombres_caracteristicas = x_train1_24.columns\n",
        "df_coeficientes = pd.DataFrame(coeficientes, columns=nombres_caracteristicas)\n",
        "df_coeficientes"
      ],
      "metadata": {
        "colab": {
          "base_uri": "https://localhost:8080/",
          "height": 89
        },
        "id": "l7ikmufb8q_Q",
        "outputId": "75664806-5cf1-48d5-d43a-9024393752ae"
      },
      "execution_count": 153,
      "outputs": [
        {
          "output_type": "execute_result",
          "data": {
            "text/plain": [
              "   const      CH04      CH06      CH07      CH08  NIVEL_ED      IPCF  \\\n",
              "0    0.0  0.243229 -0.169597  0.463558  0.164657  0.167088 -1.420461   \n",
              "\n",
              "   MIEMBROS_MAYORES_65  AYUDA_GOBIERNO1  MIEMBROS_MENORES_6  \n",
              "0            -0.019015         0.130936           -0.172949  "
            ],
            "text/html": [
              "\n",
              "  <div id=\"df-7db60d1b-296c-4fb0-b31c-f44a81ac4f3e\" class=\"colab-df-container\">\n",
              "    <div>\n",
              "<style scoped>\n",
              "    .dataframe tbody tr th:only-of-type {\n",
              "        vertical-align: middle;\n",
              "    }\n",
              "\n",
              "    .dataframe tbody tr th {\n",
              "        vertical-align: top;\n",
              "    }\n",
              "\n",
              "    .dataframe thead th {\n",
              "        text-align: right;\n",
              "    }\n",
              "</style>\n",
              "<table border=\"1\" class=\"dataframe\">\n",
              "  <thead>\n",
              "    <tr style=\"text-align: right;\">\n",
              "      <th></th>\n",
              "      <th>const</th>\n",
              "      <th>CH04</th>\n",
              "      <th>CH06</th>\n",
              "      <th>CH07</th>\n",
              "      <th>CH08</th>\n",
              "      <th>NIVEL_ED</th>\n",
              "      <th>IPCF</th>\n",
              "      <th>MIEMBROS_MAYORES_65</th>\n",
              "      <th>AYUDA_GOBIERNO1</th>\n",
              "      <th>MIEMBROS_MENORES_6</th>\n",
              "    </tr>\n",
              "  </thead>\n",
              "  <tbody>\n",
              "    <tr>\n",
              "      <th>0</th>\n",
              "      <td>0.0</td>\n",
              "      <td>0.243229</td>\n",
              "      <td>-0.169597</td>\n",
              "      <td>0.463558</td>\n",
              "      <td>0.164657</td>\n",
              "      <td>0.167088</td>\n",
              "      <td>-1.420461</td>\n",
              "      <td>-0.019015</td>\n",
              "      <td>0.130936</td>\n",
              "      <td>-0.172949</td>\n",
              "    </tr>\n",
              "  </tbody>\n",
              "</table>\n",
              "</div>\n",
              "    <div class=\"colab-df-buttons\">\n",
              "\n",
              "  <div class=\"colab-df-container\">\n",
              "    <button class=\"colab-df-convert\" onclick=\"convertToInteractive('df-7db60d1b-296c-4fb0-b31c-f44a81ac4f3e')\"\n",
              "            title=\"Convert this dataframe to an interactive table.\"\n",
              "            style=\"display:none;\">\n",
              "\n",
              "  <svg xmlns=\"http://www.w3.org/2000/svg\" height=\"24px\" viewBox=\"0 -960 960 960\">\n",
              "    <path d=\"M120-120v-720h720v720H120Zm60-500h600v-160H180v160Zm220 220h160v-160H400v160Zm0 220h160v-160H400v160ZM180-400h160v-160H180v160Zm440 0h160v-160H620v160ZM180-180h160v-160H180v160Zm440 0h160v-160H620v160Z\"/>\n",
              "  </svg>\n",
              "    </button>\n",
              "\n",
              "  <style>\n",
              "    .colab-df-container {\n",
              "      display:flex;\n",
              "      gap: 12px;\n",
              "    }\n",
              "\n",
              "    .colab-df-convert {\n",
              "      background-color: #E8F0FE;\n",
              "      border: none;\n",
              "      border-radius: 50%;\n",
              "      cursor: pointer;\n",
              "      display: none;\n",
              "      fill: #1967D2;\n",
              "      height: 32px;\n",
              "      padding: 0 0 0 0;\n",
              "      width: 32px;\n",
              "    }\n",
              "\n",
              "    .colab-df-convert:hover {\n",
              "      background-color: #E2EBFA;\n",
              "      box-shadow: 0px 1px 2px rgba(60, 64, 67, 0.3), 0px 1px 3px 1px rgba(60, 64, 67, 0.15);\n",
              "      fill: #174EA6;\n",
              "    }\n",
              "\n",
              "    .colab-df-buttons div {\n",
              "      margin-bottom: 4px;\n",
              "    }\n",
              "\n",
              "    [theme=dark] .colab-df-convert {\n",
              "      background-color: #3B4455;\n",
              "      fill: #D2E3FC;\n",
              "    }\n",
              "\n",
              "    [theme=dark] .colab-df-convert:hover {\n",
              "      background-color: #434B5C;\n",
              "      box-shadow: 0px 1px 3px 1px rgba(0, 0, 0, 0.15);\n",
              "      filter: drop-shadow(0px 1px 2px rgba(0, 0, 0, 0.3));\n",
              "      fill: #FFFFFF;\n",
              "    }\n",
              "  </style>\n",
              "\n",
              "    <script>\n",
              "      const buttonEl =\n",
              "        document.querySelector('#df-7db60d1b-296c-4fb0-b31c-f44a81ac4f3e button.colab-df-convert');\n",
              "      buttonEl.style.display =\n",
              "        google.colab.kernel.accessAllowed ? 'block' : 'none';\n",
              "\n",
              "      async function convertToInteractive(key) {\n",
              "        const element = document.querySelector('#df-7db60d1b-296c-4fb0-b31c-f44a81ac4f3e');\n",
              "        const dataTable =\n",
              "          await google.colab.kernel.invokeFunction('convertToInteractive',\n",
              "                                                    [key], {});\n",
              "        if (!dataTable) return;\n",
              "\n",
              "        const docLinkHtml = 'Like what you see? Visit the ' +\n",
              "          '<a target=\"_blank\" href=https://colab.research.google.com/notebooks/data_table.ipynb>data table notebook</a>'\n",
              "          + ' to learn more about interactive tables.';\n",
              "        element.innerHTML = '';\n",
              "        dataTable['output_type'] = 'display_data';\n",
              "        await google.colab.output.renderOutput(dataTable, element);\n",
              "        const docLink = document.createElement('div');\n",
              "        docLink.innerHTML = docLinkHtml;\n",
              "        element.appendChild(docLink);\n",
              "      }\n",
              "    </script>\n",
              "  </div>\n",
              "\n",
              "\n",
              "  <div id=\"id_ef318727-167b-4a65-8251-167e24e4836a\">\n",
              "    <style>\n",
              "      .colab-df-generate {\n",
              "        background-color: #E8F0FE;\n",
              "        border: none;\n",
              "        border-radius: 50%;\n",
              "        cursor: pointer;\n",
              "        display: none;\n",
              "        fill: #1967D2;\n",
              "        height: 32px;\n",
              "        padding: 0 0 0 0;\n",
              "        width: 32px;\n",
              "      }\n",
              "\n",
              "      .colab-df-generate:hover {\n",
              "        background-color: #E2EBFA;\n",
              "        box-shadow: 0px 1px 2px rgba(60, 64, 67, 0.3), 0px 1px 3px 1px rgba(60, 64, 67, 0.15);\n",
              "        fill: #174EA6;\n",
              "      }\n",
              "\n",
              "      [theme=dark] .colab-df-generate {\n",
              "        background-color: #3B4455;\n",
              "        fill: #D2E3FC;\n",
              "      }\n",
              "\n",
              "      [theme=dark] .colab-df-generate:hover {\n",
              "        background-color: #434B5C;\n",
              "        box-shadow: 0px 1px 3px 1px rgba(0, 0, 0, 0.15);\n",
              "        filter: drop-shadow(0px 1px 2px rgba(0, 0, 0, 0.3));\n",
              "        fill: #FFFFFF;\n",
              "      }\n",
              "    </style>\n",
              "    <button class=\"colab-df-generate\" onclick=\"generateWithVariable('df_coeficientes')\"\n",
              "            title=\"Generate code using this dataframe.\"\n",
              "            style=\"display:none;\">\n",
              "\n",
              "  <svg xmlns=\"http://www.w3.org/2000/svg\" height=\"24px\"viewBox=\"0 0 24 24\"\n",
              "       width=\"24px\">\n",
              "    <path d=\"M7,19H8.4L18.45,9,17,7.55,7,17.6ZM5,21V16.75L18.45,3.32a2,2,0,0,1,2.83,0l1.4,1.43a1.91,1.91,0,0,1,.58,1.4,1.91,1.91,0,0,1-.58,1.4L9.25,21ZM18.45,9,17,7.55Zm-12,3A5.31,5.31,0,0,0,4.9,8.1,5.31,5.31,0,0,0,1,6.5,5.31,5.31,0,0,0,4.9,4.9,5.31,5.31,0,0,0,6.5,1,5.31,5.31,0,0,0,8.1,4.9,5.31,5.31,0,0,0,12,6.5,5.46,5.46,0,0,0,6.5,12Z\"/>\n",
              "  </svg>\n",
              "    </button>\n",
              "    <script>\n",
              "      (() => {\n",
              "      const buttonEl =\n",
              "        document.querySelector('#id_ef318727-167b-4a65-8251-167e24e4836a button.colab-df-generate');\n",
              "      buttonEl.style.display =\n",
              "        google.colab.kernel.accessAllowed ? 'block' : 'none';\n",
              "\n",
              "      buttonEl.onclick = () => {\n",
              "        google.colab.notebook.generateWithVariable('df_coeficientes');\n",
              "      }\n",
              "      })();\n",
              "    </script>\n",
              "  </div>\n",
              "\n",
              "    </div>\n",
              "  </div>\n"
            ],
            "application/vnd.google.colaboratory.intrinsic+json": {
              "type": "dataframe",
              "variable_name": "df_coeficientes",
              "summary": "{\n  \"name\": \"df_coeficientes\",\n  \"rows\": 1,\n  \"fields\": [\n    {\n      \"column\": \"const\",\n      \"properties\": {\n        \"dtype\": \"number\",\n        \"std\": null,\n        \"min\": 0.0,\n        \"max\": 0.0,\n        \"num_unique_values\": 1,\n        \"samples\": [\n          0.0\n        ],\n        \"semantic_type\": \"\",\n        \"description\": \"\"\n      }\n    },\n    {\n      \"column\": \"CH04\",\n      \"properties\": {\n        \"dtype\": \"number\",\n        \"std\": null,\n        \"min\": 0.24322889045951776,\n        \"max\": 0.24322889045951776,\n        \"num_unique_values\": 1,\n        \"samples\": [\n          0.24322889045951776\n        ],\n        \"semantic_type\": \"\",\n        \"description\": \"\"\n      }\n    },\n    {\n      \"column\": \"CH06\",\n      \"properties\": {\n        \"dtype\": \"number\",\n        \"std\": null,\n        \"min\": -0.16959727814222156,\n        \"max\": -0.16959727814222156,\n        \"num_unique_values\": 1,\n        \"samples\": [\n          -0.16959727814222156\n        ],\n        \"semantic_type\": \"\",\n        \"description\": \"\"\n      }\n    },\n    {\n      \"column\": \"CH07\",\n      \"properties\": {\n        \"dtype\": \"number\",\n        \"std\": null,\n        \"min\": 0.46355838521354137,\n        \"max\": 0.46355838521354137,\n        \"num_unique_values\": 1,\n        \"samples\": [\n          0.46355838521354137\n        ],\n        \"semantic_type\": \"\",\n        \"description\": \"\"\n      }\n    },\n    {\n      \"column\": \"CH08\",\n      \"properties\": {\n        \"dtype\": \"number\",\n        \"std\": null,\n        \"min\": 0.16465733610712716,\n        \"max\": 0.16465733610712716,\n        \"num_unique_values\": 1,\n        \"samples\": [\n          0.16465733610712716\n        ],\n        \"semantic_type\": \"\",\n        \"description\": \"\"\n      }\n    },\n    {\n      \"column\": \"NIVEL_ED\",\n      \"properties\": {\n        \"dtype\": \"number\",\n        \"std\": null,\n        \"min\": 0.16708786594679037,\n        \"max\": 0.16708786594679037,\n        \"num_unique_values\": 1,\n        \"samples\": [\n          0.16708786594679037\n        ],\n        \"semantic_type\": \"\",\n        \"description\": \"\"\n      }\n    },\n    {\n      \"column\": \"IPCF\",\n      \"properties\": {\n        \"dtype\": \"number\",\n        \"std\": null,\n        \"min\": -1.4204614207787751,\n        \"max\": -1.4204614207787751,\n        \"num_unique_values\": 1,\n        \"samples\": [\n          -1.4204614207787751\n        ],\n        \"semantic_type\": \"\",\n        \"description\": \"\"\n      }\n    },\n    {\n      \"column\": \"MIEMBROS_MAYORES_65\",\n      \"properties\": {\n        \"dtype\": \"number\",\n        \"std\": null,\n        \"min\": -0.019014728438621557,\n        \"max\": -0.019014728438621557,\n        \"num_unique_values\": 1,\n        \"samples\": [\n          -0.019014728438621557\n        ],\n        \"semantic_type\": \"\",\n        \"description\": \"\"\n      }\n    },\n    {\n      \"column\": \"AYUDA_GOBIERNO1\",\n      \"properties\": {\n        \"dtype\": \"number\",\n        \"std\": null,\n        \"min\": 0.130936388251412,\n        \"max\": 0.130936388251412,\n        \"num_unique_values\": 1,\n        \"samples\": [\n          0.130936388251412\n        ],\n        \"semantic_type\": \"\",\n        \"description\": \"\"\n      }\n    },\n    {\n      \"column\": \"MIEMBROS_MENORES_6\",\n      \"properties\": {\n        \"dtype\": \"number\",\n        \"std\": null,\n        \"min\": -0.17294916149837236,\n        \"max\": -0.17294916149837236,\n        \"num_unique_values\": 1,\n        \"samples\": [\n          -0.17294916149837236\n        ],\n        \"semantic_type\": \"\",\n        \"description\": \"\"\n      }\n    }\n  ]\n}"
            }
          },
          "metadata": {},
          "execution_count": 153
        }
      ]
    },
    {
      "cell_type": "markdown",
      "source": [
        "Para 2024"
      ],
      "metadata": {
        "id": "4bj122hIQgQC"
      }
    },
    {
      "cell_type": "markdown",
      "source": [
        "Con penalty=l1"
      ],
      "metadata": {
        "id": "0YKIy_3FQmVK"
      }
    },
    {
      "cell_type": "code",
      "source": [
        "# Definir el rango de valores para C (λ = 1 / C)\n",
        "param_grid = {'logisticregression__C': [10**n for n in range(-5, 6)]}  # Valores de C desde 10^-5 a 10^5\n",
        "\n",
        "# Crear el pipeline con StandardScaler y LogisticRegression\n",
        "pipeline = make_pipeline(StandardScaler(), LogisticRegression(penalty='l1', solver='liblinear'))\n",
        "\n",
        "# Configurar la validación cruzada con K=10\n",
        "cv = StratifiedKFold(n_splits=10)\n",
        "\n",
        "# Crear GridSearchCV para búsqueda de hiperparámetros\n",
        "grid_search = GridSearchCV(estimator=pipeline, param_grid=param_grid, cv=cv, n_jobs=-1, scoring='neg_mean_squared_error')\n",
        "\n",
        "# Ajustar el modelo con la validación cruzada y búsqueda de mejores hiperparámetros\n",
        "grid_search.fit(x_train1_24, y_train24)\n",
        "\n",
        "# Ver los mejores parámetros encontrados\n",
        "print(\"Mejor valor de C (lambda):\", grid_search.best_params_['logisticregression__C'])\n",
        "print(\"Mejor valor de lambda es:\", 1/grid_search.best_params_['logisticregression__C'])\n",
        "print(\"Mejor score (neg_mean_squared_error):\", grid_search.best_score_)\n",
        "# Obtener el mejor modelo y evaluarlo en el conjunto de test\n",
        "best_model = grid_search.best_estimator_\n",
        "\n",
        "# Predecir las probabilidades y las clases en el conjunto de prueba\n",
        "y_test_pred_score = best_model.predict_proba(x_test1_24)[:, 1]\n",
        "y_test_pred = best_model.predict(x_test1_24)"
      ],
      "metadata": {
        "colab": {
          "base_uri": "https://localhost:8080/"
        },
        "id": "x4uag4iGQl9G",
        "outputId": "8b8c3489-8441-4ae9-d337-f2458357fb37"
      },
      "execution_count": 157,
      "outputs": [
        {
          "output_type": "stream",
          "name": "stdout",
          "text": [
            "Mejor valor de C (lambda): 1e-05\n",
            "Mejor valor de lambda es: 99999.99999999999\n",
            "Mejor score (neg_mean_squared_error): -0.08766005068957573\n"
          ]
        }
      ]
    },
    {
      "cell_type": "code",
      "source": [
        "# Imprimir los resultados\n",
        "print(\"Probabilidades predichas en el conjunto de prueba:\", y_test_pred_score)\n",
        "print(\"Clases predichas en el conjunto de prueba:\", y_test_pred)"
      ],
      "metadata": {
        "colab": {
          "base_uri": "https://localhost:8080/"
        },
        "id": "u1Kb25GNQ75L",
        "outputId": "ecee074d-beed-4fef-9c89-3c4ae486b39c"
      },
      "execution_count": 158,
      "outputs": [
        {
          "output_type": "stream",
          "name": "stdout",
          "text": [
            "Probabilidades predichas en el conjunto de prueba: [0.5 0.5 0.5 ... 0.5 0.5 0.5]\n",
            "Clases predichas en el conjunto de prueba: [0 0 0 ... 0 0 0]\n"
          ]
        }
      ]
    },
    {
      "cell_type": "code",
      "source": [
        "# Extraer los resultados\n",
        "results = grid_search.cv_results_\n",
        "\n",
        "# Obtener los MSE de cada pliegue para cada valor de C\n",
        "# Para eso, necesitamos acceder a los 'split' específicos\n",
        "mse_values_per_lambda = []\n",
        "\n",
        "for idx, mean_test_score in enumerate(results['mean_test_score']):\n",
        "    # Para cada valor de C (lambda), obtener los MSE de cada pliegue\n",
        "    mse_per_split = results['split0_test_score'][idx]\n",
        "    for i in range(1, 10):  # Hay 10 pliegues, puedes ajustar el rango si es necesario\n",
        "        mse_per_split = np.append(mse_per_split, results[f'split{i}_test_score'][idx])\n",
        "\n",
        "    mse_values_per_lambda.append(mse_per_split)\n",
        "\n",
        "# Crear un DataFrame con todos los valores de MSE para cada lambda\n",
        "lambda_values = [10**n for n in range(-5, 6)]\n",
        "mse_df = pd.DataFrame(mse_values_per_lambda, columns=[f'Pliegue {i+1}' for i in range(10)])\n",
        "mse_df['Lambda'] = lambda_values\n",
        "\n",
        "# Convertir los MSE negativos a positivos multiplicando por -1\n",
        "mse_df.iloc[:, :-1] = -mse_df.iloc[:, :-1]\n",
        "\n",
        "\n",
        "# Usar melt para reorganizar el DataFrame de forma correcta\n",
        "mse_melted = mse_df.melt(id_vars='Lambda', var_name='Pliegue', value_name='MSE')\n",
        "\n",
        "# Graficar boxplot\n",
        "plt.figure(figsize=(10, 6))\n",
        "sns.boxplot(x='Lambda', y='MSE', data=mse_melted)\n",
        "plt.title('MSE vs. Lambda (C = 1 / λ) en Regresión Logística con Regularización L1')\n",
        "plt.xlabel('Valor de Lambda (C = 1 / λ)')\n",
        "plt.ylabel('MSE (Error Cuadrático Medio)')\n",
        "plt.ylim(0.08, 0.093)\n",
        "plt.xticks(rotation=45)  # Rotar etiquetas del eje x si es necesario\n",
        "plt.show()"
      ],
      "metadata": {
        "colab": {
          "base_uri": "https://localhost:8080/",
          "height": 607
        },
        "id": "rRAm0YrhoLKR",
        "outputId": "f157c054-85b8-450c-a0a4-1bb44497524a"
      },
      "execution_count": 159,
      "outputs": [
        {
          "output_type": "display_data",
          "data": {
            "text/plain": [
              "<Figure size 1000x600 with 1 Axes>"
            ],
            "image/png": "[encoded data removed]"
          },
          "metadata": {}
        }
      ]
    },
    {
      "cell_type": "markdown",
      "source": [
        "Con penalty=l2"
      ],
      "metadata": {
        "id": "0-yz9H24Qiuu"
      }
    },
    {
      "cell_type": "code",
      "source": [
        "# Definir el rango de valores para C (λ = 1 / C)\n",
        "param_grid = {'logisticregression__C': [10**n for n in range(-5, 6)]}  # Valores de C desde 10^-5 a 10^5\n",
        "\n",
        "# Crear el pipeline con StandardScaler y LogisticRegression\n",
        "pipeline = make_pipeline(StandardScaler(), LogisticRegression(penalty='l2', solver='lbfgs'))\n",
        "\n",
        "# Configurar la validación cruzada con K=10\n",
        "cv = StratifiedKFold(n_splits=10)\n",
        "\n",
        "# Crear GridSearchCV para búsqueda de hiperparámetros\n",
        "grid_search = GridSearchCV(estimator=pipeline, param_grid=param_grid, cv=cv, n_jobs=-1, scoring='neg_mean_squared_error')\n",
        "\n",
        "# Ajustar el modelo con la validación cruzada y búsqueda de mejores hiperparámetros\n",
        "grid_search.fit(x_train1_24, y_train24)\n",
        "\n",
        "# Ver los mejores parámetros encontrados\n",
        "print(\"Mejor valor de C (lambda):\", grid_search.best_params_['logisticregression__C'])\n",
        "print(\"Mejor valor de lambda es:\", 1/grid_search.best_params_['logisticregression__C'])\n",
        "print(\"Mejor score (neg_mean_squared_error):\", grid_search.best_score_)\n",
        "# Obtener el mejor modelo y evaluarlo en el conjunto de test\n",
        "best_model = grid_search.best_estimator_\n",
        "\n",
        "# Predecir las probabilidades y las clases en el conjunto de prueba\n",
        "y_test_pred_score = best_model.predict_proba(x_test1_24)[:, 1]\n",
        "y_test_pred = best_model.predict(x_test1_24)"
      ],
      "metadata": {
        "colab": {
          "base_uri": "https://localhost:8080/"
        },
        "id": "ktC4NKExPU4r",
        "outputId": "56a5e452-0336-427a-a02c-326d68bb41c1"
      },
      "execution_count": 163,
      "outputs": [
        {
          "output_type": "stream",
          "name": "stdout",
          "text": [
            "Mejor valor de C (lambda): 1e-05\n",
            "Mejor valor de lambda es: 99999.99999999999\n",
            "Mejor score (neg_mean_squared_error): -0.08766005068957573\n"
          ]
        }
      ]
    },
    {
      "cell_type": "code",
      "source": [
        "# Imprimir los resultados\n",
        "print(\"Probabilidades predichas en el conjunto de prueba:\", y_test_pred_score)\n",
        "print(\"Clases predichas en el conjunto de prueba:\", y_test_pred)"
      ],
      "metadata": {
        "colab": {
          "base_uri": "https://localhost:8080/"
        },
        "id": "LEPHglpqQ_V9",
        "outputId": "32fcddbb-78aa-44d2-c7c5-c5c3a8c975ad"
      },
      "execution_count": 164,
      "outputs": [
        {
          "output_type": "stream",
          "name": "stdout",
          "text": [
            "Probabilidades predichas en el conjunto de prueba: [0.08784094 0.08763197 0.08767468 ... 0.08755763 0.08787818 0.08777346]\n",
            "Clases predichas en el conjunto de prueba: [0 0 0 ... 0 0 0]\n"
          ]
        }
      ]
    },
    {
      "cell_type": "code",
      "source": [
        "# Extraer los resultados\n",
        "results = grid_search.cv_results_\n",
        "\n",
        "# Obtener los MSE de cada pliegue para cada valor de C\n",
        "# Para eso, necesitamos acceder a los 'split' específicos\n",
        "mse_values_per_lambda = []\n",
        "\n",
        "for idx, mean_test_score in enumerate(results['mean_test_score']):\n",
        "    # Para cada valor de C (lambda), obtener los MSE de cada pliegue\n",
        "    mse_per_split = results['split0_test_score'][idx]\n",
        "    for i in range(1, 10):  # Hay 10 pliegues, puedes ajustar el rango si es necesario\n",
        "        mse_per_split = np.append(mse_per_split, results[f'split{i}_test_score'][idx])\n",
        "\n",
        "    mse_values_per_lambda.append(mse_per_split)\n",
        "\n",
        "# Crear un DataFrame con todos los valores de MSE para cada lambda\n",
        "lambda_values = [10**n for n in range(-5, 6)]\n",
        "mse_df = pd.DataFrame(mse_values_per_lambda, columns=[f'Pliegue {i+1}' for i in range(10)])\n",
        "mse_df['Lambda'] = lambda_values\n",
        "\n",
        "# Convertir los MSE negativos a positivos multiplicando por -1\n",
        "mse_df.iloc[:, :-1] = -mse_df.iloc[:, :-1]\n",
        "\n",
        "# Usar melt para reorganizar el DataFrame de forma correcta\n",
        "mse_melted = mse_df.melt(id_vars='Lambda', var_name='Pliegue', value_name='MSE')\n",
        "\n",
        "# Graficar boxplot\n",
        "plt.figure(figsize=(10, 6))\n",
        "sns.boxplot(x='Lambda', y='MSE', data=mse_melted)\n",
        "plt.title('MSE vs. Lambda (C = 1 / λ) en Regresión Logística con Regularización L2')\n",
        "plt.xlabel('Valor de Lambda (C = 1 / λ)')\n",
        "plt.ylabel('MSE (Error Cuadrático Medio)')\n",
        "plt.ylim(0.08, 0.093)\n",
        "plt.xticks(rotation=45)  # Rotar etiquetas del eje x si es necesario\n",
        "plt.show()\n"
      ],
      "metadata": {
        "colab": {
          "base_uri": "https://localhost:8080/",
          "height": 607
        },
        "id": "1Xfo2vsjoQba",
        "outputId": "f2b49f43-a781-4877-d0fe-3f34bb005f90"
      },
      "execution_count": 165,
      "outputs": [
        {
          "output_type": "display_data",
          "data": {
            "text/plain": [
              "<Figure size 1000x600 with 1 Axes>"
            ],
            "image/png": "[encoded data removed]"
          },
          "metadata": {}
        }
      ]
    },
    {
      "cell_type": "code",
      "source": [
        "# Coeficientes asociadas a cada variable\n",
        "coeficientes=best_model.named_steps['logisticregression'].coef_\n",
        "nombres_caracteristicas = x_train1_24.columns\n",
        "df_coeficientes = pd.DataFrame(coeficientes, columns=nombres_caracteristicas)\n",
        "df_coeficientes"
      ],
      "metadata": {
        "colab": {
          "base_uri": "https://localhost:8080/",
          "height": 89
        },
        "id": "Qc0Kj_vo3k-Y",
        "outputId": "0b51ac93-af06-441c-a4f5-bfdb052eee3e"
      },
      "execution_count": 166,
      "outputs": [
        {
          "output_type": "execute_result",
          "data": {
            "text/plain": [
              "   const      CH04      CH06      CH07      CH08  NIVEL_ED      IPCF  \\\n",
              "0    0.0  0.000276 -0.000947  0.000808  0.001128   -0.0005 -0.000445   \n",
              "\n",
              "   MIEMBROS_MAYORES_65  AYUDA_GOBIERNO1  MIEMBROS_MENORES_6  \n",
              "0             0.000119         0.000415           -0.000083  "
            ],
            "text/html": [
              "\n",
              "  <div id=\"df-a27038fc-e749-459a-8ef6-81a60c348693\" class=\"colab-df-container\">\n",
              "    <div>\n",
              "<style scoped>\n",
              "    .dataframe tbody tr th:only-of-type {\n",
              "        vertical-align: middle;\n",
              "    }\n",
              "\n",
              "    .dataframe tbody tr th {\n",
              "        vertical-align: top;\n",
              "    }\n",
              "\n",
              "    .dataframe thead th {\n",
              "        text-align: right;\n",
              "    }\n",
              "</style>\n",
              "<table border=\"1\" class=\"dataframe\">\n",
              "  <thead>\n",
              "    <tr style=\"text-align: right;\">\n",
              "      <th></th>\n",
              "      <th>const</th>\n",
              "      <th>CH04</th>\n",
              "      <th>CH06</th>\n",
              "      <th>CH07</th>\n",
              "      <th>CH08</th>\n",
              "      <th>NIVEL_ED</th>\n",
              "      <th>IPCF</th>\n",
              "      <th>MIEMBROS_MAYORES_65</th>\n",
              "      <th>AYUDA_GOBIERNO1</th>\n",
              "      <th>MIEMBROS_MENORES_6</th>\n",
              "    </tr>\n",
              "  </thead>\n",
              "  <tbody>\n",
              "    <tr>\n",
              "      <th>0</th>\n",
              "      <td>0.0</td>\n",
              "      <td>0.000276</td>\n",
              "      <td>-0.000947</td>\n",
              "      <td>0.000808</td>\n",
              "      <td>0.001128</td>\n",
              "      <td>-0.0005</td>\n",
              "      <td>-0.000445</td>\n",
              "      <td>0.000119</td>\n",
              "      <td>0.000415</td>\n",
              "      <td>-0.000083</td>\n",
              "    </tr>\n",
              "  </tbody>\n",
              "</table>\n",
              "</div>\n",
              "    <div class=\"colab-df-buttons\">\n",
              "\n",
              "  <div class=\"colab-df-container\">\n",
              "    <button class=\"colab-df-convert\" onclick=\"convertToInteractive('df-a27038fc-e749-459a-8ef6-81a60c348693')\"\n",
              "            title=\"Convert this dataframe to an interactive table.\"\n",
              "            style=\"display:none;\">\n",
              "\n",
              "  <svg xmlns=\"http://www.w3.org/2000/svg\" height=\"24px\" viewBox=\"0 -960 960 960\">\n",
              "    <path d=\"M120-120v-720h720v720H120Zm60-500h600v-160H180v160Zm220 220h160v-160H400v160Zm0 220h160v-160H400v160ZM180-400h160v-160H180v160Zm440 0h160v-160H620v160ZM180-180h160v-160H180v160Zm440 0h160v-160H620v160Z\"/>\n",
              "  </svg>\n",
              "    </button>\n",
              "\n",
              "  <style>\n",
              "    .colab-df-container {\n",
              "      display:flex;\n",
              "      gap: 12px;\n",
              "    }\n",
              "\n",
              "    .colab-df-convert {\n",
              "      background-color: #E8F0FE;\n",
              "      border: none;\n",
              "      border-radius: 50%;\n",
              "      cursor: pointer;\n",
              "      display: none;\n",
              "      fill: #1967D2;\n",
              "      height: 32px;\n",
              "      padding: 0 0 0 0;\n",
              "      width: 32px;\n",
              "    }\n",
              "\n",
              "    .colab-df-convert:hover {\n",
              "      background-color: #E2EBFA;\n",
              "      box-shadow: 0px 1px 2px rgba(60, 64, 67, 0.3), 0px 1px 3px 1px rgba(60, 64, 67, 0.15);\n",
              "      fill: #174EA6;\n",
              "    }\n",
              "\n",
              "    .colab-df-buttons div {\n",
              "      margin-bottom: 4px;\n",
              "    }\n",
              "\n",
              "    [theme=dark] .colab-df-convert {\n",
              "      background-color: #3B4455;\n",
              "      fill: #D2E3FC;\n",
              "    }\n",
              "\n",
              "    [theme=dark] .colab-df-convert:hover {\n",
              "      background-color: #434B5C;\n",
              "      box-shadow: 0px 1px 3px 1px rgba(0, 0, 0, 0.15);\n",
              "      filter: drop-shadow(0px 1px 2px rgba(0, 0, 0, 0.3));\n",
              "      fill: #FFFFFF;\n",
              "    }\n",
              "  </style>\n",
              "\n",
              "    <script>\n",
              "      const buttonEl =\n",
              "        document.querySelector('#df-a27038fc-e749-459a-8ef6-81a60c348693 button.colab-df-convert');\n",
              "      buttonEl.style.display =\n",
              "        google.colab.kernel.accessAllowed ? 'block' : 'none';\n",
              "\n",
              "      async function convertToInteractive(key) {\n",
              "        const element = document.querySelector('#df-a27038fc-e749-459a-8ef6-81a60c348693');\n",
              "        const dataTable =\n",
              "          await google.colab.kernel.invokeFunction('convertToInteractive',\n",
              "                                                    [key], {});\n",
              "        if (!dataTable) return;\n",
              "\n",
              "        const docLinkHtml = 'Like what you see? Visit the ' +\n",
              "          '<a target=\"_blank\" href=https://colab.research.google.com/notebooks/data_table.ipynb>data table notebook</a>'\n",
              "          + ' to learn more about interactive tables.';\n",
              "        element.innerHTML = '';\n",
              "        dataTable['output_type'] = 'display_data';\n",
              "        await google.colab.output.renderOutput(dataTable, element);\n",
              "        const docLink = document.createElement('div');\n",
              "        docLink.innerHTML = docLinkHtml;\n",
              "        element.appendChild(docLink);\n",
              "      }\n",
              "    </script>\n",
              "  </div>\n",
              "\n",
              "\n",
              "  <div id=\"id_0db25c96-bf03-4203-a549-9e4b9f8c21f6\">\n",
              "    <style>\n",
              "      .colab-df-generate {\n",
              "        background-color: #E8F0FE;\n",
              "        border: none;\n",
              "        border-radius: 50%;\n",
              "        cursor: pointer;\n",
              "        display: none;\n",
              "        fill: #1967D2;\n",
              "        height: 32px;\n",
              "        padding: 0 0 0 0;\n",
              "        width: 32px;\n",
              "      }\n",
              "\n",
              "      .colab-df-generate:hover {\n",
              "        background-color: #E2EBFA;\n",
              "        box-shadow: 0px 1px 2px rgba(60, 64, 67, 0.3), 0px 1px 3px 1px rgba(60, 64, 67, 0.15);\n",
              "        fill: #174EA6;\n",
              "      }\n",
              "\n",
              "      [theme=dark] .colab-df-generate {\n",
              "        background-color: #3B4455;\n",
              "        fill: #D2E3FC;\n",
              "      }\n",
              "\n",
              "      [theme=dark] .colab-df-generate:hover {\n",
              "        background-color: #434B5C;\n",
              "        box-shadow: 0px 1px 3px 1px rgba(0, 0, 0, 0.15);\n",
              "        filter: drop-shadow(0px 1px 2px rgba(0, 0, 0, 0.3));\n",
              "        fill: #FFFFFF;\n",
              "      }\n",
              "    </style>\n",
              "    <button class=\"colab-df-generate\" onclick=\"generateWithVariable('df_coeficientes')\"\n",
              "            title=\"Generate code using this dataframe.\"\n",
              "            style=\"display:none;\">\n",
              "\n",
              "  <svg xmlns=\"http://www.w3.org/2000/svg\" height=\"24px\"viewBox=\"0 0 24 24\"\n",
              "       width=\"24px\">\n",
              "    <path d=\"M7,19H8.4L18.45,9,17,7.55,7,17.6ZM5,21V16.75L18.45,3.32a2,2,0,0,1,2.83,0l1.4,1.43a1.91,1.91,0,0,1,.58,1.4,1.91,1.91,0,0,1-.58,1.4L9.25,21ZM18.45,9,17,7.55Zm-12,3A5.31,5.31,0,0,0,4.9,8.1,5.31,5.31,0,0,0,1,6.5,5.31,5.31,0,0,0,4.9,4.9,5.31,5.31,0,0,0,6.5,1,5.31,5.31,0,0,0,8.1,4.9,5.31,5.31,0,0,0,12,6.5,5.46,5.46,0,0,0,6.5,12Z\"/>\n",
              "  </svg>\n",
              "    </button>\n",
              "    <script>\n",
              "      (() => {\n",
              "      const buttonEl =\n",
              "        document.querySelector('#id_0db25c96-bf03-4203-a549-9e4b9f8c21f6 button.colab-df-generate');\n",
              "      buttonEl.style.display =\n",
              "        google.colab.kernel.accessAllowed ? 'block' : 'none';\n",
              "\n",
              "      buttonEl.onclick = () => {\n",
              "        google.colab.notebook.generateWithVariable('df_coeficientes');\n",
              "      }\n",
              "      })();\n",
              "    </script>\n",
              "  </div>\n",
              "\n",
              "    </div>\n",
              "  </div>\n"
            ],
            "application/vnd.google.colaboratory.intrinsic+json": {
              "type": "dataframe",
              "variable_name": "df_coeficientes",
              "summary": "{\n  \"name\": \"df_coeficientes\",\n  \"rows\": 1,\n  \"fields\": [\n    {\n      \"column\": \"const\",\n      \"properties\": {\n        \"dtype\": \"number\",\n        \"std\": null,\n        \"min\": 0.0,\n        \"max\": 0.0,\n        \"num_unique_values\": 1,\n        \"samples\": [\n          0.0\n        ],\n        \"semantic_type\": \"\",\n        \"description\": \"\"\n      }\n    },\n    {\n      \"column\": \"CH04\",\n      \"properties\": {\n        \"dtype\": \"number\",\n        \"std\": null,\n        \"min\": 0.0002762129834828415,\n        \"max\": 0.0002762129834828415,\n        \"num_unique_values\": 1,\n        \"samples\": [\n          0.0002762129834828415\n        ],\n        \"semantic_type\": \"\",\n        \"description\": \"\"\n      }\n    },\n    {\n      \"column\": \"CH06\",\n      \"properties\": {\n        \"dtype\": \"number\",\n        \"std\": null,\n        \"min\": -0.0009474556417102012,\n        \"max\": -0.0009474556417102012,\n        \"num_unique_values\": 1,\n        \"samples\": [\n          -0.0009474556417102012\n        ],\n        \"semantic_type\": \"\",\n        \"description\": \"\"\n      }\n    },\n    {\n      \"column\": \"CH07\",\n      \"properties\": {\n        \"dtype\": \"number\",\n        \"std\": null,\n        \"min\": 0.0008077038993778487,\n        \"max\": 0.0008077038993778487,\n        \"num_unique_values\": 1,\n        \"samples\": [\n          0.0008077038993778487\n        ],\n        \"semantic_type\": \"\",\n        \"description\": \"\"\n      }\n    },\n    {\n      \"column\": \"CH08\",\n      \"properties\": {\n        \"dtype\": \"number\",\n        \"std\": null,\n        \"min\": 0.0011278030134560084,\n        \"max\": 0.0011278030134560084,\n        \"num_unique_values\": 1,\n        \"samples\": [\n          0.0011278030134560084\n        ],\n        \"semantic_type\": \"\",\n        \"description\": \"\"\n      }\n    },\n    {\n      \"column\": \"NIVEL_ED\",\n      \"properties\": {\n        \"dtype\": \"number\",\n        \"std\": null,\n        \"min\": -0.0004998103616976515,\n        \"max\": -0.0004998103616976515,\n        \"num_unique_values\": 1,\n        \"samples\": [\n          -0.0004998103616976515\n        ],\n        \"semantic_type\": \"\",\n        \"description\": \"\"\n      }\n    },\n    {\n      \"column\": \"IPCF\",\n      \"properties\": {\n        \"dtype\": \"number\",\n        \"std\": null,\n        \"min\": -0.0004453543993366446,\n        \"max\": -0.0004453543993366446,\n        \"num_unique_values\": 1,\n        \"samples\": [\n          -0.0004453543993366446\n        ],\n        \"semantic_type\": \"\",\n        \"description\": \"\"\n      }\n    },\n    {\n      \"column\": \"MIEMBROS_MAYORES_65\",\n      \"properties\": {\n        \"dtype\": \"number\",\n        \"std\": null,\n        \"min\": 0.0001185287906192226,\n        \"max\": 0.0001185287906192226,\n        \"num_unique_values\": 1,\n        \"samples\": [\n          0.0001185287906192226\n        ],\n        \"semantic_type\": \"\",\n        \"description\": \"\"\n      }\n    },\n    {\n      \"column\": \"AYUDA_GOBIERNO1\",\n      \"properties\": {\n        \"dtype\": \"number\",\n        \"std\": null,\n        \"min\": 0.0004150301444811637,\n        \"max\": 0.0004150301444811637,\n        \"num_unique_values\": 1,\n        \"samples\": [\n          0.0004150301444811637\n        ],\n        \"semantic_type\": \"\",\n        \"description\": \"\"\n      }\n    },\n    {\n      \"column\": \"MIEMBROS_MENORES_6\",\n      \"properties\": {\n        \"dtype\": \"number\",\n        \"std\": null,\n        \"min\": -8.285781533633426e-05,\n        \"max\": -8.285781533633426e-05,\n        \"num_unique_values\": 1,\n        \"samples\": [\n          -8.285781533633426e-05\n        ],\n        \"semantic_type\": \"\",\n        \"description\": \"\"\n      }\n    }\n  ]\n}"
            }
          },
          "metadata": {},
          "execution_count": 166
        }
      ]
    }
  ]
}