{
  "nbformat": 4,
  "nbformat_minor": 0,
  "metadata": {
    "colab": {
      "provenance": []
    },
    "kernelspec": {
      "name": "python3",
      "display_name": "Python 3"
    },
    "language_info": {
      "name": "python"
    }
  },
  "cells": [
    {
      "cell_type": "code",
      "execution_count": null,
      "metadata": {
        "colab": {
          "base_uri": "https://localhost:8080/",
          "height": 73
        },
        "id": "-sKrzrYfngsK",
        "outputId": "ddba6578-cc1a-4c1a-dfe0-391c157fcf56"
      },
      "outputs": [
        {
          "output_type": "display_data",
          "data": {
            "text/plain": [
              "<IPython.core.display.HTML object>"
            ],
            "text/html": [
              "\n",
              "     <input type=\"file\" id=\"files-bd5dae35-3471-48ec-8f8f-68bd33985e08\" name=\"files[]\" multiple disabled\n",
              "        style=\"border:none\" />\n",
              "     <output id=\"result-bd5dae35-3471-48ec-8f8f-68bd33985e08\">\n",
              "      Upload widget is only available when the cell has been executed in the\n",
              "      current browser session. Please rerun this cell to enable.\n",
              "      </output>\n",
              "      <script>// Copyright 2017 Google LLC\n",
              "//\n",
              "// Licensed under the Apache License, Version 2.0 (the \"License\");\n",
              "// you may not use this file except in compliance with the License.\n",
              "// You may obtain a copy of the License at\n",
              "//\n",
              "//      http://www.apache.org/licenses/LICENSE-2.0\n",
              "//\n",
              "// Unless required by applicable law or agreed to in writing, software\n",
              "// distributed under the License is distributed on an \"AS IS\" BASIS,\n",
              "// WITHOUT WARRANTIES OR CONDITIONS OF ANY KIND, either express or implied.\n",
              "// See the License for the specific language governing permissions and\n",
              "// limitations under the License.\n",
              "\n",
              "/**\n",
              " * @fileoverview Helpers for google.colab Python module.\n",
              " */\n",
              "(function(scope) {\n",
              "function span(text, styleAttributes = {}) {\n",
              "  const element = document.createElement('span');\n",
              "  element.textContent = text;\n",
              "  for (const key of Object.keys(styleAttributes)) {\n",
              "    element.style[key] = styleAttributes[key];\n",
              "  }\n",
              "  return element;\n",
              "}\n",
              "\n",
              "// Max number of bytes which will be uploaded at a time.\n",
              "const MAX_PAYLOAD_SIZE = 100 * 1024;\n",
              "\n",
              "function _uploadFiles(inputId, outputId) {\n",
              "  const steps = uploadFilesStep(inputId, outputId);\n",
              "  const outputElement = document.getElementById(outputId);\n",
              "  // Cache steps on the outputElement to make it available for the next call\n",
              "  // to uploadFilesContinue from Python.\n",
              "  outputElement.steps = steps;\n",
              "\n",
              "  return _uploadFilesContinue(outputId);\n",
              "}\n",
              "\n",
              "// This is roughly an async generator (not supported in the browser yet),\n",
              "// where there are multiple asynchronous steps and the Python side is going\n",
              "// to poll for completion of each step.\n",
              "// This uses a Promise to block the python side on completion of each step,\n",
              "// then passes the result of the previous step as the input to the next step.\n",
              "function _uploadFilesContinue(outputId) {\n",
              "  const outputElement = document.getElementById(outputId);\n",
              "  const steps = outputElement.steps;\n",
              "\n",
              "  const next = steps.next(outputElement.lastPromiseValue);\n",
              "  return Promise.resolve(next.value.promise).then((value) => {\n",
              "    // Cache the last promise value to make it available to the next\n",
              "    // step of the generator.\n",
              "    outputElement.lastPromiseValue = value;\n",
              "    return next.value.response;\n",
              "  });\n",
              "}\n",
              "\n",
              "/**\n",
              " * Generator function which is called between each async step of the upload\n",
              " * process.\n",
              " * @param {string} inputId Element ID of the input file picker element.\n",
              " * @param {string} outputId Element ID of the output display.\n",
              " * @return {!Iterable<!Object>} Iterable of next steps.\n",
              " */\n",
              "function* uploadFilesStep(inputId, outputId) {\n",
              "  const inputElement = document.getElementById(inputId);\n",
              "  inputElement.disabled = false;\n",
              "\n",
              "  const outputElement = document.getElementById(outputId);\n",
              "  outputElement.innerHTML = '';\n",
              "\n",
              "  const pickedPromise = new Promise((resolve) => {\n",
              "    inputElement.addEventListener('change', (e) => {\n",
              "      resolve(e.target.files);\n",
              "    });\n",
              "  });\n",
              "\n",
              "  const cancel = document.createElement('button');\n",
              "  inputElement.parentElement.appendChild(cancel);\n",
              "  cancel.textContent = 'Cancel upload';\n",
              "  const cancelPromise = new Promise((resolve) => {\n",
              "    cancel.onclick = () => {\n",
              "      resolve(null);\n",
              "    };\n",
              "  });\n",
              "\n",
              "  // Wait for the user to pick the files.\n",
              "  const files = yield {\n",
              "    promise: Promise.race([pickedPromise, cancelPromise]),\n",
              "    response: {\n",
              "      action: 'starting',\n",
              "    }\n",
              "  };\n",
              "\n",
              "  cancel.remove();\n",
              "\n",
              "  // Disable the input element since further picks are not allowed.\n",
              "  inputElement.disabled = true;\n",
              "\n",
              "  if (!files) {\n",
              "    return {\n",
              "      response: {\n",
              "        action: 'complete',\n",
              "      }\n",
              "    };\n",
              "  }\n",
              "\n",
              "  for (const file of files) {\n",
              "    const li = document.createElement('li');\n",
              "    li.append(span(file.name, {fontWeight: 'bold'}));\n",
              "    li.append(span(\n",
              "        `(${file.type || 'n/a'}) - ${file.size} bytes, ` +\n",
              "        `last modified: ${\n",
              "            file.lastModifiedDate ? file.lastModifiedDate.toLocaleDateString() :\n",
              "                                    'n/a'} - `));\n",
              "    const percent = span('0% done');\n",
              "    li.appendChild(percent);\n",
              "\n",
              "    outputElement.appendChild(li);\n",
              "\n",
              "    const fileDataPromise = new Promise((resolve) => {\n",
              "      const reader = new FileReader();\n",
              "      reader.onload = (e) => {\n",
              "        resolve(e.target.result);\n",
              "      };\n",
              "      reader.readAsArrayBuffer(file);\n",
              "    });\n",
              "    // Wait for the data to be ready.\n",
              "    let fileData = yield {\n",
              "      promise: fileDataPromise,\n",
              "      response: {\n",
              "        action: 'continue',\n",
              "      }\n",
              "    };\n",
              "\n",
              "    // Use a chunked sending to avoid message size limits. See b/62115660.\n",
              "    let position = 0;\n",
              "    do {\n",
              "      const length = Math.min(fileData.byteLength - position, MAX_PAYLOAD_SIZE);\n",
              "      const chunk = new Uint8Array(fileData, position, length);\n",
              "      position += length;\n",
              "\n",
              "      const base64 = btoa(String.fromCharCode.apply(null, chunk));\n",
              "      yield {\n",
              "        response: {\n",
              "          action: 'append',\n",
              "          file: file.name,\n",
              "          data: base64,\n",
              "        },\n",
              "      };\n",
              "\n",
              "      let percentDone = fileData.byteLength === 0 ?\n",
              "          100 :\n",
              "          Math.round((position / fileData.byteLength) * 100);\n",
              "      percent.textContent = `${percentDone}% done`;\n",
              "\n",
              "    } while (position < fileData.byteLength);\n",
              "  }\n",
              "\n",
              "  // All done.\n",
              "  yield {\n",
              "    response: {\n",
              "      action: 'complete',\n",
              "    }\n",
              "  };\n",
              "}\n",
              "\n",
              "scope.google = scope.google || {};\n",
              "scope.google.colab = scope.google.colab || {};\n",
              "scope.google.colab._files = {\n",
              "  _uploadFiles,\n",
              "  _uploadFilesContinue,\n",
              "};\n",
              "})(self);\n",
              "</script> "
            ]
          },
          "metadata": {}
        },
        {
          "output_type": "stream",
          "name": "stdout",
          "text": [
            "Saving Individual_t104.dta to Individual_t104.dta\n"
          ]
        }
      ],
      "source": [
        "from google.colab import files\n",
        "uploaded = files.upload()  # Esto abrirá un cuadro para que subas los archivos\n"
      ]
    },
    {
      "cell_type": "code",
      "source": [
        "from google.colab import files\n",
        "uploaded = files.upload()  # Esto abrirá un cuadro para que subas los archivos\n"
      ],
      "metadata": {
        "colab": {
          "base_uri": "https://localhost:8080/",
          "height": 73
        },
        "id": "igJi76RPqR06",
        "outputId": "3a7cf6c6-c6ea-45f3-c153-c2a0d47289fe"
      },
      "execution_count": null,
      "outputs": [
        {
          "output_type": "display_data",
          "data": {
            "text/plain": [
              "<IPython.core.display.HTML object>"
            ],
            "text/html": [
              "\n",
              "     <input type=\"file\" id=\"files-bcb0b504-d219-4793-b1de-848b8f504db9\" name=\"files[]\" multiple disabled\n",
              "        style=\"border:none\" />\n",
              "     <output id=\"result-bcb0b504-d219-4793-b1de-848b8f504db9\">\n",
              "      Upload widget is only available when the cell has been executed in the\n",
              "      current browser session. Please rerun this cell to enable.\n",
              "      </output>\n",
              "      <script>// Copyright 2017 Google LLC\n",
              "//\n",
              "// Licensed under the Apache License, Version 2.0 (the \"License\");\n",
              "// you may not use this file except in compliance with the License.\n",
              "// You may obtain a copy of the License at\n",
              "//\n",
              "//      http://www.apache.org/licenses/LICENSE-2.0\n",
              "//\n",
              "// Unless required by applicable law or agreed to in writing, software\n",
              "// distributed under the License is distributed on an \"AS IS\" BASIS,\n",
              "// WITHOUT WARRANTIES OR CONDITIONS OF ANY KIND, either express or implied.\n",
              "// See the License for the specific language governing permissions and\n",
              "// limitations under the License.\n",
              "\n",
              "/**\n",
              " * @fileoverview Helpers for google.colab Python module.\n",
              " */\n",
              "(function(scope) {\n",
              "function span(text, styleAttributes = {}) {\n",
              "  const element = document.createElement('span');\n",
              "  element.textContent = text;\n",
              "  for (const key of Object.keys(styleAttributes)) {\n",
              "    element.style[key] = styleAttributes[key];\n",
              "  }\n",
              "  return element;\n",
              "}\n",
              "\n",
              "// Max number of bytes which will be uploaded at a time.\n",
              "const MAX_PAYLOAD_SIZE = 100 * 1024;\n",
              "\n",
              "function _uploadFiles(inputId, outputId) {\n",
              "  const steps = uploadFilesStep(inputId, outputId);\n",
              "  const outputElement = document.getElementById(outputId);\n",
              "  // Cache steps on the outputElement to make it available for the next call\n",
              "  // to uploadFilesContinue from Python.\n",
              "  outputElement.steps = steps;\n",
              "\n",
              "  return _uploadFilesContinue(outputId);\n",
              "}\n",
              "\n",
              "// This is roughly an async generator (not supported in the browser yet),\n",
              "// where there are multiple asynchronous steps and the Python side is going\n",
              "// to poll for completion of each step.\n",
              "// This uses a Promise to block the python side on completion of each step,\n",
              "// then passes the result of the previous step as the input to the next step.\n",
              "function _uploadFilesContinue(outputId) {\n",
              "  const outputElement = document.getElementById(outputId);\n",
              "  const steps = outputElement.steps;\n",
              "\n",
              "  const next = steps.next(outputElement.lastPromiseValue);\n",
              "  return Promise.resolve(next.value.promise).then((value) => {\n",
              "    // Cache the last promise value to make it available to the next\n",
              "    // step of the generator.\n",
              "    outputElement.lastPromiseValue = value;\n",
              "    return next.value.response;\n",
              "  });\n",
              "}\n",
              "\n",
              "/**\n",
              " * Generator function which is called between each async step of the upload\n",
              " * process.\n",
              " * @param {string} inputId Element ID of the input file picker element.\n",
              " * @param {string} outputId Element ID of the output display.\n",
              " * @return {!Iterable<!Object>} Iterable of next steps.\n",
              " */\n",
              "function* uploadFilesStep(inputId, outputId) {\n",
              "  const inputElement = document.getElementById(inputId);\n",
              "  inputElement.disabled = false;\n",
              "\n",
              "  const outputElement = document.getElementById(outputId);\n",
              "  outputElement.innerHTML = '';\n",
              "\n",
              "  const pickedPromise = new Promise((resolve) => {\n",
              "    inputElement.addEventListener('change', (e) => {\n",
              "      resolve(e.target.files);\n",
              "    });\n",
              "  });\n",
              "\n",
              "  const cancel = document.createElement('button');\n",
              "  inputElement.parentElement.appendChild(cancel);\n",
              "  cancel.textContent = 'Cancel upload';\n",
              "  const cancelPromise = new Promise((resolve) => {\n",
              "    cancel.onclick = () => {\n",
              "      resolve(null);\n",
              "    };\n",
              "  });\n",
              "\n",
              "  // Wait for the user to pick the files.\n",
              "  const files = yield {\n",
              "    promise: Promise.race([pickedPromise, cancelPromise]),\n",
              "    response: {\n",
              "      action: 'starting',\n",
              "    }\n",
              "  };\n",
              "\n",
              "  cancel.remove();\n",
              "\n",
              "  // Disable the input element since further picks are not allowed.\n",
              "  inputElement.disabled = true;\n",
              "\n",
              "  if (!files) {\n",
              "    return {\n",
              "      response: {\n",
              "        action: 'complete',\n",
              "      }\n",
              "    };\n",
              "  }\n",
              "\n",
              "  for (const file of files) {\n",
              "    const li = document.createElement('li');\n",
              "    li.append(span(file.name, {fontWeight: 'bold'}));\n",
              "    li.append(span(\n",
              "        `(${file.type || 'n/a'}) - ${file.size} bytes, ` +\n",
              "        `last modified: ${\n",
              "            file.lastModifiedDate ? file.lastModifiedDate.toLocaleDateString() :\n",
              "                                    'n/a'} - `));\n",
              "    const percent = span('0% done');\n",
              "    li.appendChild(percent);\n",
              "\n",
              "    outputElement.appendChild(li);\n",
              "\n",
              "    const fileDataPromise = new Promise((resolve) => {\n",
              "      const reader = new FileReader();\n",
              "      reader.onload = (e) => {\n",
              "        resolve(e.target.result);\n",
              "      };\n",
              "      reader.readAsArrayBuffer(file);\n",
              "    });\n",
              "    // Wait for the data to be ready.\n",
              "    let fileData = yield {\n",
              "      promise: fileDataPromise,\n",
              "      response: {\n",
              "        action: 'continue',\n",
              "      }\n",
              "    };\n",
              "\n",
              "    // Use a chunked sending to avoid message size limits. See b/62115660.\n",
              "    let position = 0;\n",
              "    do {\n",
              "      const length = Math.min(fileData.byteLength - position, MAX_PAYLOAD_SIZE);\n",
              "      const chunk = new Uint8Array(fileData, position, length);\n",
              "      position += length;\n",
              "\n",
              "      const base64 = btoa(String.fromCharCode.apply(null, chunk));\n",
              "      yield {\n",
              "        response: {\n",
              "          action: 'append',\n",
              "          file: file.name,\n",
              "          data: base64,\n",
              "        },\n",
              "      };\n",
              "\n",
              "      let percentDone = fileData.byteLength === 0 ?\n",
              "          100 :\n",
              "          Math.round((position / fileData.byteLength) * 100);\n",
              "      percent.textContent = `${percentDone}% done`;\n",
              "\n",
              "    } while (position < fileData.byteLength);\n",
              "  }\n",
              "\n",
              "  // All done.\n",
              "  yield {\n",
              "    response: {\n",
              "      action: 'complete',\n",
              "    }\n",
              "  };\n",
              "}\n",
              "\n",
              "scope.google = scope.google || {};\n",
              "scope.google.colab = scope.google.colab || {};\n",
              "scope.google.colab._files = {\n",
              "  _uploadFiles,\n",
              "  _uploadFilesContinue,\n",
              "};\n",
              "})(self);\n",
              "</script> "
            ]
          },
          "metadata": {}
        },
        {
          "output_type": "stream",
          "name": "stdout",
          "text": [
            "Saving usu_individual_T124.xlsx to usu_individual_T124.xlsx\n"
          ]
        }
      ]
    },
    {
      "cell_type": "code",
      "source": [
        "import pandas as pd\n",
        "\n",
        "# Leer la base de datos para 2024 (archivo .xls)\n",
        "df_2024 = pd.read_excel('usu_individual_T124.xls')\n",
        "\n",
        "# Leer la base de datos para 2004 (archivo .dta)\n",
        "df_2004 = pd.read_stata('Individual_t104.dta')"
      ],
      "metadata": {
        "id": "epOwdlc9nqp2"
      },
      "execution_count": null,
      "outputs": []
    },
    {
      "cell_type": "code",
      "source": [
        "# Revisión de las primeras filas de ambos dataframes\n",
        "print(df_2024.head())  # Para 2024\n",
        "print(df_2004.head())  # Para 2004"
      ],
      "metadata": {
        "id": "K_jMCZT3nqr_"
      },
      "execution_count": null,
      "outputs": []
    },
    {
      "cell_type": "code",
      "source": [
        "# Filtrar las observaciones para CABA y GBA en 2024\n",
        "df_2024_caba_gba = df_2024[df_2024['zona'].isin(['CABA', 'GBA'])]\n",
        "\n",
        "# Filtrar las observaciones para CABA y GBA en 2004\n",
        "df_2004_caba_gba = df_2004[df_2004['zona'].isin(['CABA', 'GBA'])]"
      ],
      "metadata": {
        "id": "RNMxx-yNnquW"
      },
      "execution_count": null,
      "outputs": []
    },
    {
      "cell_type": "code",
      "source": [
        "# Unir ambos trimestres\n",
        "df_unido = pd.concat([df_2004_caba_gba, df_2024_caba_gba], axis=0)"
      ],
      "metadata": {
        "id": "wmPAYDPOnqwl"
      },
      "execution_count": null,
      "outputs": []
    },
    {
      "cell_type": "code",
      "source": [
        "# Eliminar observaciones con ingresos y edades negativas\n",
        "df_limpio = df_unido[(df_unido['ingreso'] >= 0) & (df_unido['edad'] >= 0)]"
      ],
      "metadata": {
        "id": "q2ueYeFQnqy2"
      },
      "execution_count": null,
      "outputs": []
    },
    {
      "cell_type": "code",
      "source": [
        "import matplotlib.pyplot as plt\n",
        "import seaborn as sns\n",
        "\n",
        "# Crear gráficos de barras por sexo\n",
        "plt.figure(figsize=(10, 6))\n",
        "\n",
        "# Para el año 2004\n",
        "df_2004_sexo = df_2004_caba_gba['sexo'].value_counts()\n",
        "sns.barplot(x=df_2004_sexo.index, y=df_2004_sexo.values, color='skyblue', label='2004')\n",
        "\n",
        "# Para el año 2024\n",
        "df_2024_sexo = df_2024_caba_gba['sexo'].value_counts()\n",
        "sns.barplot(x=df_2024_sexo.index, y=df_2024_sexo.values, color='orange', label='2024')\n",
        "\n",
        "plt.title('Composición por sexo en 2004 y 2024')\n",
        "plt.xlabel('Sexo')\n",
        "plt.ylabel('Cantidad de personas')\n",
        "plt.legend(title='Año')\n",
        "plt.show()"
      ],
      "metadata": {
        "id": "DQtMsoBOnq1G"
      },
      "execution_count": null,
      "outputs": []
    },
    {
      "cell_type": "code",
      "source": [
        "# Selección de columnas\n",
        "variables = ['CH04', 'CH06', 'CH07', 'CH08', 'NIVEL ED', 'ESTADO', 'CAT_INAC', 'IPCF']\n",
        "\n",
        "# Matriz de correlación para 2004\n",
        "corr_2004 = df_2004_caba_gba[variables].corr()\n",
        "\n",
        "# Matriz de correlación para 2024\n",
        "corr_2024 = df_2024_caba_gba[variables].corr()\n",
        "\n",
        "# Graficar las matrices de correlación\n",
        "plt.figure(figsize=(12, 8))\n",
        "\n",
        "# Correlación 2004\n",
        "plt.subplot(1, 2, 1)\n",
        "sns.heatmap(corr_2004, annot=True, cmap='coolwarm', fmt='.2f', vmin=-1, vmax=1)\n",
        "plt.title('Matriz de correlación 2004')\n",
        "\n",
        "# Correlación 2024\n",
        "plt.subplot(1, 2, 2)\n",
        "sns.heatmap(corr_2024, annot=True, cmap='coolwarm', fmt='.2f', vmin=-1, vmax=1)\n",
        "plt.title('Matriz de correlación 2024')\n",
        "\n",
        "plt.tight_layout()\n",
        "plt.show()\n"
      ],
      "metadata": {
        "id": "sUFrgMxInq3i"
      },
      "execution_count": null,
      "outputs": []
    },
    {
      "cell_type": "code",
      "source": [
        "# Contar los desocupados e inactivos\n",
        "desocupados = df_limpio[df_limpio['estado'] == 'desocupado'].shape[0]\n",
        "inactivos = df_limpio[df_limpio['estado'] == 'inactivo'].shape[0]\n",
        "\n",
        "# Calcular la media de IPCF por estado\n",
        "media_ipcf = df_limpio.groupby('estado')['IPCF'].mean()\n",
        "\n",
        "# Resultados\n",
        "print(f\"Desocupados: {desocupados}\")\n",
        "print(f\"Inactivos: {inactivos}\")\n",
        "print(f\"Media de IPCF por estado:\\n{media_ipcf}\")\n"
      ],
      "metadata": {
        "id": "Lmxo6L9UoBRR"
      },
      "execution_count": null,
      "outputs": []
    },
    {
      "cell_type": "code",
      "source": [
        "# Filtrar las observaciones donde respondieron la condición de actividad\n",
        "respondieron = df_limpio[df_limpio['ESTADO'] != 0]\n",
        "\n",
        "# Filtrar las observaciones donde no respondieron la condición de actividad\n",
        "norespondieron = df_limpio[df_limpio['ESTADO'] == 0]\n",
        "\n",
        "# Ver el número de personas que no respondieron\n",
        "print(f\"Cantidad de personas que no respondieron: {norespondieron.shape[0]}\")\n"
      ],
      "metadata": {
        "id": "I1Jo03oZoBTz"
      },
      "execution_count": null,
      "outputs": []
    },
    {
      "cell_type": "code",
      "source": [
        "# Revisar los valores únicos de la columna ESTADO\n",
        "print(df_limpio['ESTADO'].unique())\n"
      ],
      "metadata": {
        "id": "ZJcsL2I6oBWD"
      },
      "execution_count": null,
      "outputs": []
    },
    {
      "cell_type": "code",
      "source": [
        "# Agregar la columna PEA (Población Económicamente Activa)\n",
        "respondieron['PEA'] = respondieron['ESTADO'].apply(lambda x: 1 if x in [1, 2] else 0)\n",
        "\n",
        "# Ver las primeras filas para comprobar\n",
        "respondieron[['ESTADO', 'PEA']].head()\n"
      ],
      "metadata": {
        "id": "YS6IdK5-oBYi"
      },
      "execution_count": null,
      "outputs": []
    },
    {
      "cell_type": "code",
      "source": [
        "# Gráfico de barras por PEA para 2004 y 2024\n",
        "plt.figure(figsize=(10, 6))\n",
        "\n",
        "# Composición PEA para 2004\n",
        "df_2004_pea = respondieron[respondieron['PEA'] == 1].shape[0]\n",
        "sns.barplot(x=[\"2004\"], y=[df_2004_pea], color='skyblue', label='2004')\n",
        "\n",
        "# Composición PEA para 2024\n",
        "df_2024_pea = respondieron[respondieron['PEA'] == 1].shape[0]\n",
        "sns.barplot(x=[\"2024\"], y=[df_2024_pea], color='orange', label='2024')\n",
        "\n",
        "plt.title('Composición de la Población Económicamente Activa (PEA) en 2004 y 2024')\n",
        "plt.xlabel('Año')\n",
        "plt.ylabel('Cantidad de personas en PEA')\n",
        "plt.legend(title='Año')\n",
        "plt.show()\n"
      ],
      "metadata": {
        "id": "r0TvLoXBoBay"
      },
      "execution_count": null,
      "outputs": []
    },
    {
      "cell_type": "code",
      "source": [
        "# Agregar la columna PET (Población en Edad para Trabajar)\n",
        "respondieron['PET'] = respondieron['edad'].apply(lambda x: 1 if 15 <= x <= 65 else 0)\n",
        "\n",
        "# Ver las primeras filas para comprobar\n",
        "respondieron[['edad', 'PET']].head()\n"
      ],
      "metadata": {
        "id": "FKtEB85FoBdc"
      },
      "execution_count": null,
      "outputs": []
    },
    {
      "cell_type": "code",
      "source": [
        "# Gráfico de barras por PET para 2004 y 2024\n",
        "plt.figure(figsize=(10, 6))\n",
        "\n",
        "# Composición PET para 2004\n",
        "df_2004_pet = respondieron[respondieron['PET'] == 1].shape[0]\n",
        "sns.barplot(x=[\"2004\"], y=[df_2004_pet], color='lightgreen', label='2004')\n",
        "\n",
        "# Composición PET para 2024\n",
        "df_2024_pet = respondieron[respondieron['PET'] == 1].shape[0]\n",
        "sns.barplot(x=[\"2024\"], y=[df_2024_pet], color='yellow', label='2024')\n",
        "\n",
        "plt.title('Composición de la Población en Edad para Trabajar (PET) en 2004 y 2024')\n",
        "plt.xlabel('Año')\n",
        "plt.ylabel('Cantidad de personas en PET')\n",
        "plt.legend(title='Año')\n",
        "plt.show()\n"
      ],
      "metadata": {
        "id": "g8CH2Tm4oBf8"
      },
      "execution_count": null,
      "outputs": []
    },
    {
      "cell_type": "code",
      "source": [
        "# Comparación de las proporciones de PEA y PET para 2004 y 2024\n",
        "pea_pet_comparison_2004 = df_2004_pea / df_2004_pet\n",
        "pea_pet_comparison_2024 = df_2024_pea / df_2024_pet\n",
        "\n",
        "print(f\"Proporción PEA/PET en 2004: {pea_pet_comparison_2004:.2f}\")\n",
        "print(f\"Proporción PEA/PET en 2024: {pea_pet_comparison_2024:.2f}\")\n"
      ],
      "metadata": {
        "id": "FaQCdYSDoBig"
      },
      "execution_count": null,
      "outputs": []
    },
    {
      "cell_type": "code",
      "source": [
        "# Agregar la columna desocupado\n",
        "respondieron['desocupado'] = respondieron['ESTADO'].apply(lambda x: 1 if x == 2 else 0)\n",
        "\n",
        "# Verificar las primeras filas para asegurarse de que la columna está correctamente añadida\n",
        "respondieron[['ESTADO', 'desocupado']].head()\n"
      ],
      "metadata": {
        "id": "uTFLauNbnq5_"
      },
      "execution_count": null,
      "outputs": []
    },
    {
      "cell_type": "code",
      "source": [
        "# Calcular desocupados en 2004\n",
        "desocupados_2004 = respondieron_2004[respondieron_2004['desocupado'] == 1].shape[0]\n",
        "\n",
        "# Calcular desocupados en 2024\n",
        "desocupados_2024 = respondieron_2024[respondieron_2024['desocupado'] == 1].shape[0]\n",
        "\n",
        "# Mostrar los resultados\n",
        "print(f\"Cantidad de desocupados en 2004: {desocupados_2004}\")\n",
        "print(f\"Cantidad de desocupados en 2024: {desocupados_2024}\")\n"
      ],
      "metadata": {
        "id": "eL6PJWFqo1LZ"
      },
      "execution_count": null,
      "outputs": []
    },
    {
      "cell_type": "code",
      "source": [
        "# Agrupar por nivel educativo y calcular la proporción de desocupados en cada grupo para 2004\n",
        "desocupados_educacion_2004 = respondieron_2004.groupby('NIVEL_ED')['desocupado'].mean()\n",
        "\n",
        "# Agrupar por nivel educativo y calcular la proporción de desocupados en cada grupo para 2024\n",
        "desocupados_educacion_2024 = respondieron_2024.groupby('NIVEL_ED')['desocupado'].mean()\n",
        "\n",
        "# Graficar la comparación de las proporciones\n",
        "plt.figure(figsize=(12, 6))\n",
        "\n",
        "# Para 2004\n",
        "sns.barplot(x=desocupados_educacion_2004.index, y=desocupados_educacion_2004.values, color='skyblue', label='2004')\n",
        "\n",
        "# Para 2024\n",
        "sns.barplot(x=desocupados_educacion_2024.index, y=desocupados_educacion_2024.values, color='orange', label='2024')\n",
        "\n",
        "plt.title('Proporción de Desocupados por Nivel Educativo (2004 vs 2024)')\n",
        "plt.xlabel('Nivel Educativo')\n",
        "plt.ylabel('Proporción de Desocupados')\n",
        "plt.legend(title='Año')\n",
        "plt.xticks(rotation=45)\n",
        "plt.show()\n"
      ],
      "metadata": {
        "id": "MijP-VlPo1Nq"
      },
      "execution_count": null,
      "outputs": []
    },
    {
      "cell_type": "code",
      "source": [
        "# Crear la variable de edad agrupada en rangos de 10 años\n",
        "respondieron['edad_grupo'] = pd.cut(respondieron['CH06'], bins=range(15, 76, 10), right=False, labels=[\"15-24\", \"25-34\", \"35-44\", \"45-54\", \"55-64\"])\n",
        "\n",
        "# Verificar los primeros valores\n",
        "respondieron[['CH06', 'edad_grupo']].head()\n"
      ],
      "metadata": {
        "id": "eR4cXuYjo1QH"
      },
      "execution_count": null,
      "outputs": []
    },
    {
      "cell_type": "code",
      "source": [
        "# Proporción de desocupados por edad para 2004\n",
        "desocupados_edad_2004 = respondieron_2004.groupby('edad_grupo')['desocupado'].mean()\n",
        "\n",
        "# Proporción de desocupados por edad para 2024\n",
        "desocupados_edad_2024 = respondieron_2024.groupby('edad_grupo')['desocupado'].mean()\n",
        "\n",
        "# Graficar la comparación de las proporciones\n",
        "plt.figure(figsize=(12, 6))\n",
        "\n",
        "# Para 2004\n",
        "sns.barplot(x=desocupados_edad_2004.index, y=desocupados_edad_2004.values, color='lightgreen', label='2004')\n",
        "\n",
        "# Para 2024\n",
        "sns.barplot(x=desocupados_edad_2024.index, y=desocupados_edad_2024.values, color='yellow', label='2024')\n",
        "\n",
        "plt.title('Proporción de Desocupados por Grupo de Edad (2004 vs 2024)')\n",
        "plt.xlabel('Grupo de Edad')\n",
        "plt.ylabel('Proporción de Desocupados')\n",
        "plt.legend(title='Año')\n",
        "plt.show()\n"
      ],
      "metadata": {
        "id": "3wrOLbcwo1Sc"
      },
      "execution_count": null,
      "outputs": []
    },
    {
      "cell_type": "code",
      "source": [
        "# Calcular tasa de desocupación para 2004\n",
        "tasa_desocupacion_2004 = (desocupados_2004 / df_2004_pea) * 100\n",
        "\n",
        "# Calcular tasa de desocupación para 2024\n",
        "tasa_desocupacion_2024 = (desocupados_2024 / df_2024_pea) * 100\n",
        "\n",
        "# Mostrar las tasas de desocupación\n",
        "print(f\"Tasa de desocupación INDEC 2004: {tasa_desocupacion_2004:.2f}%\")\n",
        "print(f\"Tasa de desocupación INDEC 2024: {tasa_desocupacion_2024:.2f}%\")\n"
      ],
      "metadata": {
        "id": "M21N-O1Ko1Uy"
      },
      "execution_count": null,
      "outputs": []
    },
    {
      "cell_type": "code",
      "source": [
        "# Calcular tasa alternativa de desocupación para 2004\n",
        "tasa_desocupacion_alt_2004 = (desocupados_2004 / df_2004_pet) * 100\n",
        "\n",
        "# Calcular tasa alternativa de desocupación para 2024\n",
        "tasa_desocupacion_alt_2024 = (desocupados_2024 / df_2024_pet) * 100\n",
        "\n",
        "# Mostrar las tasas alternativas de desocupación\n",
        "print(f\"Tasa alternativa de desocupación 2004: {tasa_desocupacion_alt_2004:.2f}%\")\n",
        "print(f\"Tasa alternativa de desocupación 2024: {tasa_desocupacion_alt_2024:.2f}%\")\n"
      ],
      "metadata": {
        "id": "21dQZuF6o1XX"
      },
      "execution_count": null,
      "outputs": []
    },
    {
      "cell_type": "code",
      "source": [
        "# Crear un DataFrame para comparar las tasas\n",
        "tasa_comparacion = pd.DataFrame({\n",
        "    'Tasa INDEC': [tasa_desocupacion_2004, tasa_desocupacion_2024],\n",
        "    'Tasa Alternativa': [tasa_desocupacion_alt_2004, tasa_desocupacion_alt_2024]\n",
        "}, index=['2004', '2024'])\n",
        "\n",
        "print(tasa_comparacion)\n"
      ],
      "metadata": {
        "id": "BroxrZm3o1Zv"
      },
      "execution_count": null,
      "outputs": []
    }
  ]
}